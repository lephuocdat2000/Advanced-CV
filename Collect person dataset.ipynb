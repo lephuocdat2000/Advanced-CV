{
  "nbformat": 4,
  "nbformat_minor": 0,
  "metadata": {
    "colab": {
      "name": "Untitled144.ipynb",
      "provenance": [],
      "authorship_tag": "ABX9TyMb39U6cac6aTjDZdrwH6Dm",
      "include_colab_link": true
    },
    "kernelspec": {
      "name": "python3",
      "display_name": "Python 3"
    },
    "language_info": {
      "name": "python"
    }
  },
  "cells": [
    {
      "cell_type": "markdown",
      "metadata": {
        "id": "view-in-github",
        "colab_type": "text"
      },
      "source": [
        "<a href=\"https://colab.research.google.com/github/lephuocdat2000/Advanced-CV/blob/main/Collect%20person%20dataset.ipynb\" target=\"_parent\"><img src=\"https://colab.research.google.com/assets/colab-badge.svg\" alt=\"Open In Colab\"/></a>"
      ]
    },
    {
      "cell_type": "code",
      "metadata": {
        "colab": {
          "base_uri": "https://localhost:8080/"
        },
        "id": "M8hzxjefqzrJ",
        "outputId": "c33344e6-a901-4393-8aa3-b10e7fd70f97"
      },
      "source": [
        "!pip install CocoDataset==0.1.2"
      ],
      "execution_count": 1,
      "outputs": [
        {
          "output_type": "stream",
          "text": [
            "Collecting CocoDataset==0.1.2\n",
            "  Downloading https://files.pythonhosted.org/packages/cb/4e/a235b8369782872579eb3426d3a41e986b8c6d545a810079630c8b54d4cb/CocoDataset-0.1.2-py3-none-any.whl\n",
            "Requirement already satisfied: pycocotools in /usr/local/lib/python3.7/dist-packages (from CocoDataset==0.1.2) (2.0.2)\n",
            "Requirement already satisfied: cython>=0.27.3 in /usr/local/lib/python3.7/dist-packages (from pycocotools->CocoDataset==0.1.2) (0.29.23)\n",
            "Requirement already satisfied: setuptools>=18.0 in /usr/local/lib/python3.7/dist-packages (from pycocotools->CocoDataset==0.1.2) (57.0.0)\n",
            "Requirement already satisfied: matplotlib>=2.1.0 in /usr/local/lib/python3.7/dist-packages (from pycocotools->CocoDataset==0.1.2) (3.2.2)\n",
            "Requirement already satisfied: cycler>=0.10 in /usr/local/lib/python3.7/dist-packages (from matplotlib>=2.1.0->pycocotools->CocoDataset==0.1.2) (0.10.0)\n",
            "Requirement already satisfied: kiwisolver>=1.0.1 in /usr/local/lib/python3.7/dist-packages (from matplotlib>=2.1.0->pycocotools->CocoDataset==0.1.2) (1.3.1)\n",
            "Requirement already satisfied: python-dateutil>=2.1 in /usr/local/lib/python3.7/dist-packages (from matplotlib>=2.1.0->pycocotools->CocoDataset==0.1.2) (2.8.1)\n",
            "Requirement already satisfied: pyparsing!=2.0.4,!=2.1.2,!=2.1.6,>=2.0.1 in /usr/local/lib/python3.7/dist-packages (from matplotlib>=2.1.0->pycocotools->CocoDataset==0.1.2) (2.4.7)\n",
            "Requirement already satisfied: numpy>=1.11 in /usr/local/lib/python3.7/dist-packages (from matplotlib>=2.1.0->pycocotools->CocoDataset==0.1.2) (1.19.5)\n",
            "Requirement already satisfied: six in /usr/local/lib/python3.7/dist-packages (from cycler>=0.10->matplotlib>=2.1.0->pycocotools->CocoDataset==0.1.2) (1.15.0)\n",
            "Installing collected packages: CocoDataset\n",
            "Successfully installed CocoDataset-0.1.2\n"
          ],
          "name": "stdout"
        }
      ]
    },
    {
      "cell_type": "code",
      "metadata": {
        "colab": {
          "base_uri": "https://localhost:8080/"
        },
        "id": "3ksa6xbTq8OO",
        "outputId": "dadc7271-6a1d-4224-f57a-29044bec0d99"
      },
      "source": [
        "!wget http://images.cocodataset.org/annotations/annotations_trainval2014.zip\n",
        "!unzip /content/annotations_trainval2014.zip"
      ],
      "execution_count": 2,
      "outputs": [
        {
          "output_type": "stream",
          "text": [
            "--2021-06-03 02:20:42--  http://images.cocodataset.org/annotations/annotations_trainval2014.zip\n",
            "Resolving images.cocodataset.org (images.cocodataset.org)... 52.216.206.43\n",
            "Connecting to images.cocodataset.org (images.cocodataset.org)|52.216.206.43|:80... connected.\n",
            "HTTP request sent, awaiting response... 200 OK\n",
            "Length: 252872794 (241M) [application/zip]\n",
            "Saving to: ‘annotations_trainval2014.zip’\n",
            "\n",
            "annotations_trainva 100%[===================>] 241.16M  16.5MB/s    in 16s     \n",
            "\n",
            "2021-06-03 02:20:59 (14.8 MB/s) - ‘annotations_trainval2014.zip’ saved [252872794/252872794]\n",
            "\n",
            "Archive:  /content/annotations_trainval2014.zip\n",
            "  inflating: annotations/instances_train2014.json  \n",
            "  inflating: annotations/instances_val2014.json  \n",
            "  inflating: annotations/person_keypoints_train2014.json  \n",
            "  inflating: annotations/person_keypoints_val2014.json  \n",
            "  inflating: annotations/captions_train2014.json  \n",
            "  inflating: annotations/captions_val2014.json  \n"
          ],
          "name": "stdout"
        }
      ]
    },
    {
      "cell_type": "code",
      "metadata": {
        "colab": {
          "base_uri": "https://localhost:8080/"
        },
        "id": "Qv7I2oTxrGCM",
        "outputId": "ac126cf8-d18f-4ef8-fcc6-a515d21c7c44"
      },
      "source": [
        "from coco_dataset import coco_dataset_download as cocod\n",
        "class_name='person'  #class name example \n",
        "images_count=50       #count of images  \n",
        "annotations_path='/content/annotations/instances_train2014.json' #path of coco dataset annotations \n",
        "#call download function \n",
        "cocod.coco_dataset_download(class_name,images_count,annotations_path)"
      ],
      "execution_count": 3,
      "outputs": [
        {
          "output_type": "stream",
          "text": [
            "loading annotations into memory...\n",
            "Done (t=11.94s)\n",
            "creating index...\n",
            "index created!\n",
            "no.of image: 1\n",
            "no.of image: 2\n",
            "no.of image: 3\n",
            "no.of image: 4\n",
            "no.of image: 5\n",
            "no.of image: 6\n",
            "no.of image: 7\n",
            "no.of image: 8\n",
            "no.of image: 9\n",
            "no.of image: 10\n",
            "no.of image: 11\n",
            "no.of image: 12\n",
            "no.of image: 13\n",
            "no.of image: 14\n",
            "no.of image: 15\n",
            "no.of image: 16\n",
            "no.of image: 17\n",
            "no.of image: 18\n",
            "no.of image: 19\n",
            "no.of image: 20\n",
            "no.of image: 21\n",
            "no.of image: 22\n",
            "no.of image: 23\n",
            "no.of image: 24\n",
            "no.of image: 25\n",
            "no.of image: 26\n",
            "no.of image: 27\n",
            "no.of image: 28\n",
            "no.of image: 29\n",
            "no.of image: 30\n",
            "no.of image: 31\n",
            "no.of image: 32\n",
            "no.of image: 33\n",
            "no.of image: 34\n",
            "no.of image: 35\n",
            "no.of image: 36\n",
            "no.of image: 37\n",
            "no.of image: 38\n",
            "no.of image: 39\n",
            "no.of image: 40\n",
            "no.of image: 41\n",
            "no.of image: 42\n",
            "no.of image: 43\n",
            "no.of image: 44\n",
            "no.of image: 45\n",
            "no.of image: 46\n",
            "no.of image: 47\n",
            "no.of image: 48\n",
            "no.of image: 49\n",
            "no.of image: 50\n",
            "finished images download\n"
          ],
          "name": "stdout"
        }
      ]
    },
    {
      "cell_type": "code",
      "metadata": {
        "colab": {
          "base_uri": "https://localhost:8080/"
        },
        "id": "-upFfzcetbZl",
        "outputId": "424dbc18-5d90-42f9-d9a5-9d04cdc0df25"
      },
      "source": [
        "from google.colab import drive\n",
        "drive.mount('/content/drive')"
      ],
      "execution_count": 4,
      "outputs": [
        {
          "output_type": "stream",
          "text": [
            "Mounted at /content/drive\n"
          ],
          "name": "stdout"
        }
      ]
    },
    {
      "cell_type": "code",
      "metadata": {
        "id": "CIbTaCqmtvzs"
      },
      "source": [
        "!cp -r /content/person /content/drive/MyDrive/Advanced-CV"
      ],
      "execution_count": 6,
      "outputs": []
    }
  ]
}