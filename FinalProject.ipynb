{
  "nbformat": 4,
  "nbformat_minor": 0,
  "metadata": {
    "colab": {
      "name": "Untitled135.ipynb",
      "provenance": [],
      "collapsed_sections": [],
      "authorship_tag": "ABX9TyN/EyHLWQGmkCalbTw2P/Sz",
      "include_colab_link": true
    },
    "kernelspec": {
      "name": "python3",
      "display_name": "Python 3"
    },
    "language_info": {
      "name": "python"
    },
    "accelerator": "GPU"
  },
  "cells": [
    {
      "cell_type": "markdown",
      "metadata": {
        "id": "view-in-github",
        "colab_type": "text"
      },
      "source": [
        "<a href=\"https://colab.research.google.com/github/lephuocdat2000/Advanced-CV/blob/main/FinalProject.ipynb\" target=\"_parent\"><img src=\"https://colab.research.google.com/assets/colab-badge.svg\" alt=\"Open In Colab\"/></a>"
      ]
    },
    {
      "cell_type": "code",
      "metadata": {
        "id": "15HH5w-wEum2",
        "colab": {
          "base_uri": "https://localhost:8080/"
        },
        "outputId": "a0eaca33-f00f-4177-d01b-171935c2229b"
      },
      "source": [
        "from google.colab import drive\n",
        "drive.mount('/content/drive')"
      ],
      "execution_count": 1,
      "outputs": [
        {
          "output_type": "stream",
          "text": [
            "Mounted at /content/drive\n"
          ],
          "name": "stdout"
        }
      ]
    },
    {
      "cell_type": "code",
      "metadata": {
        "colab": {
          "base_uri": "https://localhost:8080/"
        },
        "id": "zN6CmvXlAoSi",
        "outputId": "3f978211-e343-4546-f5ca-1720ced87fc8"
      },
      "source": [
        "pip install tf2_yolov4"
      ],
      "execution_count": 2,
      "outputs": [
        {
          "output_type": "stream",
          "text": [
            "Collecting tf2_yolov4\n",
            "  Downloading https://files.pythonhosted.org/packages/6a/61/24a0aed949afc7715b767160abc241c7cd9e7ae9c34e4f8b42c1d6924e63/tf2_yolov4-0.1.0-py3-none-any.whl\n",
            "Requirement already satisfied: click>=6.7 in /usr/local/lib/python3.7/dist-packages (from tf2_yolov4) (8.0.0)\n",
            "Requirement already satisfied: numpy>=1.10 in /usr/local/lib/python3.7/dist-packages (from tf2_yolov4) (1.19.5)\n",
            "Collecting tensorflow-addons>=0.9.1\n",
            "\u001b[?25l  Downloading https://files.pythonhosted.org/packages/66/4b/e893d194e626c24b3df2253066aa418f46a432fdb68250cde14bf9bb0700/tensorflow_addons-0.13.0-cp37-cp37m-manylinux2010_x86_64.whl (679kB)\n",
            "\u001b[K     |████████████████████████████████| 686kB 11.9MB/s \n",
            "\u001b[?25hRequirement already satisfied: typeguard>=2.7 in /usr/local/lib/python3.7/dist-packages (from tensorflow-addons>=0.9.1->tf2_yolov4) (2.7.1)\n",
            "Installing collected packages: tensorflow-addons, tf2-yolov4\n",
            "Successfully installed tensorflow-addons-0.13.0 tf2-yolov4-0.1.0\n"
          ],
          "name": "stdout"
        }
      ]
    },
    {
      "cell_type": "code",
      "metadata": {
        "id": "81788R5HANC4"
      },
      "source": [
        "import tensorflow as tf\n",
        "#from tensorflow.python.keras.engine import training\n",
        "from tf2_yolov4.anchors import YOLOV4_ANCHORS\n",
        "from tf2_yolov4.model import YOLOv4\n",
        "import matplotlib.pyplot as plt\n",
        "import numpy as np\n",
        "from operator import itemgetter\n",
        "import cv2\n",
        "import timeit\n",
        "\n",
        "WIDTH,HEIGHT=(1024,768)\n",
        "\n",
        "model = YOLOv4(\n",
        "        input_shape=(HEIGHT,WIDTH,3),\n",
        "        anchors= YOLOV4_ANCHORS,\n",
        "        num_classes= 80,\n",
        "        training=False,\n",
        "        yolo_max_boxes=50,\n",
        "        yolo_iou_threshold=0.5,\n",
        "        yolo_score_threshold=0.5,    \n",
        ")\n",
        "CLASSES = [\n",
        "    'person', 'bicycle', 'car', 'motorcycle', 'airplane', 'bus', 'train', 'truck',\n",
        "    'boat', 'traffic light', 'fire hydrant', 'stop sign', 'parking meter', 'bench',\n",
        "    'bird', 'cat', 'dog', 'horse', 'sheep', 'cow', 'elephant', 'bear', 'zebra',\n",
        "    'giraffe', 'backpack', 'umbrella', 'handbag', 'tie', 'suitcase', 'frisbee',\n",
        "    'skis', 'snowboard', 'sports ball', 'kite', 'baseball bat', 'baseball glove',\n",
        "    'skateboard', 'surfboard', 'tennis racket', 'bottle', 'wine glass', 'cup', 'fork',\n",
        "    'knife', 'spoon', 'bowl', 'banana', 'apple', 'sandwich', 'orange', 'broccoli',\n",
        "    'carrot', 'hot dog', 'pizza', 'donut', 'cake', 'chair', 'couch', 'potted plant',\n",
        "    'bed', 'dining table', 'toilet', 'tv', 'laptop',  'mouse', 'remote', 'keyboard',\n",
        "    'cell phone', 'microwave', 'oven', 'toaster', 'sink', 'refrigerator', 'book',\n",
        "    'clock', 'vase', 'scissors', 'teddy bear', 'hair drier', 'toothbrush'\n",
        "]\n",
        "model.load_weights('/content/drive/MyDrive/Pretrained/yolov4.h5')"
      ],
      "execution_count": 106,
      "outputs": []
    },
    {
      "cell_type": "code",
      "metadata": {
        "id": "kcbnLeGjimpr"
      },
      "source": [
        "def images_processing(model,image):\n",
        "    image=tf.convert_to_tensor(image,dtype=tf.float32)\n",
        "    #image = tf.io.decode_image(image)   #convert input -> tensor\n",
        "    #image = tf.image.resize(image,(HEIGHT,WIDTH)) \n",
        "    images = tf.expand_dims(image,axis=0) / 255 # shape=(batch,(image.shape)) \n",
        "    boxes, scores, classes, detections = model.predict(images)\n",
        "    human_index = np.where(classes[0]==0)\n",
        "    boxes = np.array(itemgetter(*human_index)(boxes[0]))* [WIDTH, HEIGHT, WIDTH, HEIGHT]\n",
        "    scores = np.array(itemgetter(*human_index)(scores[0]))\n",
        "    classes = np.array(itemgetter(*human_index)(classes[0])).astype(int)       \n",
        "    return images*255,boxes,scores,classes,detections\n",
        "def video_processing(model,video_path):\n",
        "    cap = cv2.VideoCapture(video_path)\n",
        "    if (cap.isOpened()==False): \n",
        "        print('Error opening video stream or file')\n",
        "    else: \n",
        "      fourcc = cv2.VideoWriter_fourcc(*'XVID')\n",
        "      out = cv2.VideoWriter('output.avi',fourcc, 20, (1024,768))\n",
        "      while (True):\n",
        "          ret, frame = cap.read()\n",
        "          if ret==True:\n",
        "            frame = cv2.resize(frame,(1024,768))\n",
        "            images,boxes,scores,classes,detections = images_processing(model,frame)  \n",
        "            frame=np.uint8(images[0])\n",
        "            if detections > 0:\n",
        "                    image_rect = frame.copy()\n",
        "                    for (xmin,ymin,xmax,ymax) in boxes:\n",
        "                        cv2.rectangle(image_rect,(int(xmin),int(ymin)),(int(xmax),int(ymax)),(0,255,0),2)      \n",
        "                    out.write(image_rect) \n",
        "            else: out.write(frame)\n",
        "            if cv2.waitKey(1)==ord('q'): break\n",
        "          else: break \n",
        "    out.release()\n"
      ],
      "execution_count": 108,
      "outputs": []
    },
    {
      "cell_type": "code",
      "metadata": {
        "id": "Gkk6dgpI9JD2",
        "outputId": "d7781cda-b5d0-42a3-8164-33f2b2bdc92f",
        "colab": {
          "base_uri": "https://localhost:8080/",
          "height": 229
        }
      },
      "source": [
        "cap = cv2.VideoCapture('/content/drive/MyDrive/Advanced-CV/1064282191-preview.mp4')\n",
        "if (cap.isOpened()==False): print('Error opening video stream or file')\n",
        "else: \n",
        "    fourcc = cv2.VideoWriter_fourcc(*'XVID')\n",
        "    out = cv2.VideoWriter('output.avi',fourcc, 20, (768,1024))\n",
        "    while (True):\n",
        "          ret, frame = cap.read()\n",
        "          if ret==True:\n",
        "            frame=cv2.resize(frame,(768,1024))\n",
        "            out.write(frame)\n",
        "            if cv2.waitKey(1)==ord('q'): break\n",
        "          else: break \n",
        "    out.release()\n"
      ],
      "execution_count": 98,
      "outputs": [
        {
          "output_type": "error",
          "ename": "KeyboardInterrupt",
          "evalue": "ignored",
          "traceback": [
            "\u001b[0;31m---------------------------------------------------------------------------\u001b[0m",
            "\u001b[0;31mKeyboardInterrupt\u001b[0m                         Traceback (most recent call last)",
            "\u001b[0;32m<ipython-input-98-e06af921affa>\u001b[0m in \u001b[0;36m<module>\u001b[0;34m()\u001b[0m\n\u001b[1;32m      8\u001b[0m           \u001b[0;32mif\u001b[0m \u001b[0mret\u001b[0m\u001b[0;34m==\u001b[0m\u001b[0;32mTrue\u001b[0m\u001b[0;34m:\u001b[0m\u001b[0;34m\u001b[0m\u001b[0;34m\u001b[0m\u001b[0m\n\u001b[1;32m      9\u001b[0m             \u001b[0mframe\u001b[0m\u001b[0;34m=\u001b[0m\u001b[0mcv2\u001b[0m\u001b[0;34m.\u001b[0m\u001b[0mresize\u001b[0m\u001b[0;34m(\u001b[0m\u001b[0mframe\u001b[0m\u001b[0;34m,\u001b[0m\u001b[0;34m(\u001b[0m\u001b[0;36m768\u001b[0m\u001b[0;34m,\u001b[0m\u001b[0;36m1024\u001b[0m\u001b[0;34m)\u001b[0m\u001b[0;34m)\u001b[0m\u001b[0;34m\u001b[0m\u001b[0;34m\u001b[0m\u001b[0m\n\u001b[0;32m---> 10\u001b[0;31m             \u001b[0mout\u001b[0m\u001b[0;34m.\u001b[0m\u001b[0mwrite\u001b[0m\u001b[0;34m(\u001b[0m\u001b[0mframe\u001b[0m\u001b[0;34m)\u001b[0m\u001b[0;34m\u001b[0m\u001b[0;34m\u001b[0m\u001b[0m\n\u001b[0m\u001b[1;32m     11\u001b[0m             \u001b[0;32mif\u001b[0m \u001b[0mcv2\u001b[0m\u001b[0;34m.\u001b[0m\u001b[0mwaitKey\u001b[0m\u001b[0;34m(\u001b[0m\u001b[0;36m1\u001b[0m\u001b[0;34m)\u001b[0m\u001b[0;34m==\u001b[0m\u001b[0mord\u001b[0m\u001b[0;34m(\u001b[0m\u001b[0;34m'q'\u001b[0m\u001b[0;34m)\u001b[0m\u001b[0;34m:\u001b[0m \u001b[0;32mbreak\u001b[0m\u001b[0;34m\u001b[0m\u001b[0;34m\u001b[0m\u001b[0m\n\u001b[1;32m     12\u001b[0m           \u001b[0;32melse\u001b[0m\u001b[0;34m:\u001b[0m \u001b[0;32mbreak\u001b[0m\u001b[0;34m\u001b[0m\u001b[0;34m\u001b[0m\u001b[0m\n",
            "\u001b[0;31mKeyboardInterrupt\u001b[0m: "
          ]
        }
      ]
    },
    {
      "cell_type": "code",
      "metadata": {
        "id": "5PaAOjB5eFiL"
      },
      "source": [
        "image_path= '/content/test1.jpg'\n",
        "#image=cv2.cvtColor(cv2.imread(image_path),cv2.COLOR_BGR2RGB)\n",
        "video_path='/content/drive/MyDrive/Advanced-CV/1064282191-preview.mp4'\n",
        "#image_rect,boxes,scores,classes,detections=images_processing(model,image,HEIGHT,WIDTH)\n",
        "video_processing(model,video_path)"
      ],
      "execution_count": 109,
      "outputs": []
    }
  ]
}