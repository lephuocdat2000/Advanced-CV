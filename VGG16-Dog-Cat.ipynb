{
  "nbformat": 4,
  "nbformat_minor": 0,
  "metadata": {
    "colab": {
      "name": "Untitled131.ipynb",
      "provenance": [],
      "authorship_tag": "ABX9TyPK2vU/ChvF7suoYtaAGwOv",
      "include_colab_link": true
    },
    "kernelspec": {
      "name": "python3",
      "display_name": "Python 3"
    },
    "language_info": {
      "name": "python"
    }
  },
  "cells": [
    {
      "cell_type": "markdown",
      "metadata": {
        "id": "view-in-github",
        "colab_type": "text"
      },
      "source": [
        "<a href=\"https://colab.research.google.com/github/lephuocdat2000/Advanced-CV/blob/main/VGG16-Dog-Cat.ipynb\" target=\"_parent\"><img src=\"https://colab.research.google.com/assets/colab-badge.svg\" alt=\"Open In Colab\"/></a>"
      ]
    },
    {
      "cell_type": "code",
      "metadata": {
        "colab": {
          "base_uri": "https://localhost:8080/"
        },
        "id": "VTZi3ASS7c2S",
        "outputId": "9f723cbe-12bf-4d85-e7dd-428815358176"
      },
      "source": [
        "from google.colab import drive\n",
        "drive.mount('/content/drive')"
      ],
      "execution_count": 1,
      "outputs": [
        {
          "output_type": "stream",
          "text": [
            "Mounted at /content/drive\n"
          ],
          "name": "stdout"
        }
      ]
    },
    {
      "cell_type": "code",
      "metadata": {
        "id": "OlsBdsfQ784B"
      },
      "source": [
        "import tensorflow as tf\n",
        "import torch\n",
        "from torchvision import transforms\n",
        "import torchvision.models as models\n",
        "import zipfile\n",
        "from PIL import Image\n",
        "from sklearn.metrics import accuracy_score\n",
        "from sklearn.svm import SVC\n",
        "from sklearn.metrics import classification_report\n",
        "from sklearn.metrics import confusion_matrix\n",
        "import numpy as np\n",
        "from sklearn.model_selection import train_test_split"
      ],
      "execution_count": 40,
      "outputs": []
    },
    {
      "cell_type": "code",
      "metadata": {
        "id": "LIhWTO9g8kfh"
      },
      "source": [
        "transform = transforms.Compose([transforms.ToTensor(),\n",
        "                               transforms.RandomHorizontalFlip(),\n",
        "                               transforms.CenterCrop(250),\n",
        "                               transforms.Resize(227)])"
      ],
      "execution_count": 5,
      "outputs": []
    },
    {
      "cell_type": "code",
      "metadata": {
        "id": "QnHJtMUn_vsV"
      },
      "source": [
        "vgg16_1 = models.vgg16(pretrained=True)\n",
        "vgg16_1.classifier = vgg16_1.classifier[0:2]\n",
        "vgg16_2=models.vgg16(pretrained=True)\n",
        "vgg16_2.classifier=vgg16_2.classifier[0:5]"
      ],
      "execution_count": 22,
      "outputs": []
    },
    {
      "cell_type": "markdown",
      "metadata": {
        "id": "ipJNhgKKI60L"
      },
      "source": [
        "#Read data"
      ]
    },
    {
      "cell_type": "code",
      "metadata": {
        "id": "8dFVMDIjJCm8"
      },
      "source": [
        "def Read_data(deep_model):\n",
        "  path_to_zip_file = '/content/drive/MyDrive/Thị giác máy tính/Thị giác máy tính nâng cao/Dog and Cat.zip'\n",
        "  imgzip = zipfile.ZipFile(path_to_zip_file)\n",
        "  inflist = imgzip.infolist()\n",
        "  images=[]\n",
        "  labels=[]\n",
        "  for f in inflist:\n",
        "      if '.jpg' in f.filename:\n",
        "        ifile = imgzip.open(f)\n",
        "        img = Image.open(ifile)\n",
        "        #Cho vào mạng alexnet\n",
        "        img_t=transform(img)\n",
        "        batch_t = torch.unsqueeze(img_t,0)\n",
        "        out = deep_model(batch_t)\n",
        "        out=out.detach().numpy()\n",
        "        images.append(out)\n",
        "        if 'dog' in f.filename: labels.append(1)\n",
        "        elif 'cat' in f.filename: labels.append(0)\n",
        "  images=np.array(images)\n",
        "  labels=np.array(labels)\n",
        "  return images,labels"
      ],
      "execution_count": 32,
      "outputs": []
    },
    {
      "cell_type": "code",
      "metadata": {
        "id": "b9LP5FpiJFTE"
      },
      "source": [
        "images1,labels1 = Read_data(vgg16_1)\n",
        "images2,labels2 = Read_data(vgg16_2)"
      ],
      "execution_count": 35,
      "outputs": []
    },
    {
      "cell_type": "markdown",
      "metadata": {
        "id": "ywfRNeW7NUma"
      },
      "source": [
        "#Train model\n"
      ]
    },
    {
      "cell_type": "code",
      "metadata": {
        "id": "c6ViDl7qNW5E"
      },
      "source": [
        "def Split_data(images,labels):\n",
        "  X_train, X_test, y_train, y_test = train_test_split(images,labels, test_size=0.2, random_state=42)\n",
        "  X_train=X_train.reshape(X_train.shape[0],X_train.shape[1]*X_train.shape[2])\n",
        "  X_test=X_test.reshape(X_test.shape[0],X_test.shape[1]*X_test.shape[2])\n",
        "  return X_train,X_test,y_train,y_test\n",
        "def Train_Function(X,y):\n",
        "   #model = make_pipeline(StandardScaler(), SVC(gamma='auto'))\n",
        "   model = SVC(gamma='auto')\n",
        "   model.fit(X,y)\n",
        "   return model\n",
        "def Accuracy(model,X,y_true):\n",
        "   y_pred=model.predict(X)\n",
        "   return y_pred,accuracy_score(y_pred,y_true)"
      ],
      "execution_count": 38,
      "outputs": []
    },
    {
      "cell_type": "code",
      "metadata": {
        "colab": {
          "base_uri": "https://localhost:8080/"
        },
        "id": "mrYSFGVnNd1S",
        "outputId": "f4257ed2-03c9-4d18-9d5a-df3e51ef7435"
      },
      "source": [
        "X_train_fc1,X_test_fc1,y_train_fc1,y_test_fc1 = Split_data(images1,labels1)\n",
        "X_train_fc2,X_test_fc2,y_train_fc2,y_test_fc2 = Split_data(images2,labels2)\n",
        "model1=Train_Function(X_train_fc1,y_train_fc1)\n",
        "model2=Train_Function(X_train_fc2,y_train_fc2)\n",
        "y_pred_train_fc1,Accuracy_Train_FC1 = Accuracy(model1,X_train_fc1,y_train_fc1)\n",
        "y_pred_test_fc1,Accuracy_Test_FC1 = Accuracy(model1,X_test_fc1,y_test_fc1)\n",
        "y_pred_train_fc2,Accuracy_Train_FC2 = Accuracy(model2,X_train_fc2,y_train_fc2)\n",
        "y_pred_test_fc2,Accuracy_Test_FC2 = Accuracy(model2,X_test_fc2,y_test_fc2)\n",
        "print('Accuracy_FC1:',Accuracy_Test_FC1)\n",
        "print('Accuracy_FC2:',Accuracy_Test_FC2)"
      ],
      "execution_count": 41,
      "outputs": [
        {
          "output_type": "stream",
          "text": [
            "Accuracy_FC1: 0.926829268292683\n",
            "Accuracy_FC2: 0.926829268292683\n"
          ],
          "name": "stdout"
        }
      ]
    },
    {
      "cell_type": "code",
      "metadata": {
        "colab": {
          "base_uri": "https://localhost:8080/"
        },
        "id": "B-BU9aDGNwux",
        "outputId": "9c09a971-9c5e-4670-b70b-ae85b9e6553d"
      },
      "source": [
        "from sklearn.metrics import f1_score,precision_score,recall_score\n",
        "print('precision_fc1:',precision_score(y_pred_test_fc1,y_test_fc1,average='binary'))\n",
        "print('precision_fc2:',precision_score(y_pred_test_fc2,y_test_fc2,average='binary'))\n",
        "print('recall_fc1:',recall_score(y_pred_test_fc1,y_test_fc1,average='binary'))\n",
        "print('recall_fc2:',recall_score(y_pred_test_fc2,y_test_fc2,average='binary'))\n",
        "print('f1_score_fc1:',f1_score(y_pred_test_fc1,y_test_fc1,average='binary'))\n",
        "print('f1_score_fc2:',f1_score(y_pred_test_fc2,y_test_fc2,average='binary'))"
      ],
      "execution_count": 42,
      "outputs": [
        {
          "output_type": "stream",
          "text": [
            "precision_fc1: 0.9473684210526315\n",
            "precision_fc2: 0.9473684210526315\n",
            "recall_fc1: 0.9\n",
            "recall_fc2: 0.9\n",
            "f1_score_fc1: 0.9230769230769231\n",
            "f1_score_fc2: 0.9230769230769231\n"
          ],
          "name": "stdout"
        }
      ]
    },
    {
      "cell_type": "code",
      "metadata": {
        "colab": {
          "base_uri": "https://localhost:8080/",
          "height": 582
        },
        "id": "2yJEFlC9N0o2",
        "outputId": "d7b39555-525c-46bd-d517-e419203aae3c"
      },
      "source": [
        "import matplotlib.pyplot as plt  \n",
        "from sklearn.metrics import plot_confusion_matrix\n",
        "plt.figure()\n",
        "plot_confusion_matrix(model1, X_test_fc1, y_test_fc1)\n",
        "plt.figure()\n",
        "plot_confusion_matrix(model2, X_test_fc2, y_test_fc2)\n",
        "plt.show()"
      ],
      "execution_count": 43,
      "outputs": [
        {
          "output_type": "display_data",
          "data": {
            "text/plain": [
              "<Figure size 432x288 with 0 Axes>"
            ]
          },
          "metadata": {
            "tags": []
          }
        },
        {
          "output_type": "display_data",
          "data": {
            "image/png": "[encoded data removed]",
            "text/plain": [
              "<Figure size 432x288 with 2 Axes>"
            ]
          },
          "metadata": {
            "tags": [],
            "needs_background": "light"
          }
        },
        {
          "output_type": "display_data",
          "data": {
            "text/plain": [
              "<Figure size 432x288 with 0 Axes>"
            ]
          },
          "metadata": {
            "tags": []
          }
        },
        {
          "output_type": "display_data",
          "data": {
            "image/png": "[encoded data removed]",
            "text/plain": [
              "<Figure size 432x288 with 2 Axes>"
            ]
          },
          "metadata": {
            "tags": [],
            "needs_background": "light"
          }
        }
      ]
    }
  ]
}