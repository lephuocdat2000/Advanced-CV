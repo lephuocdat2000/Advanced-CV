{
  "nbformat": 4,
  "nbformat_minor": 0,
  "metadata": {
    "colab": {
      "name": "Untitled127.ipynb",
      "provenance": [],
      "toc_visible": true,
      "authorship_tag": "ABX9TyNOl/yNngLNTWtd2+4Mh5tO",
      "include_colab_link": true
    },
    "kernelspec": {
      "name": "python3",
      "display_name": "Python 3"
    },
    "language_info": {
      "name": "python"
    }
  },
  "cells": [
    {
      "cell_type": "markdown",
      "metadata": {
        "id": "view-in-github",
        "colab_type": "text"
      },
      "source": [
        "<a href=\"https://colab.research.google.com/github/lephuocdat2000/Advanced-CV/blob/main/Dog-and-Cat.ipynb\" target=\"_parent\"><img src=\"https://colab.research.google.com/assets/colab-badge.svg\" alt=\"Open In Colab\"/></a>"
      ]
    },
    {
      "cell_type": "code",
      "metadata": {
        "colab": {
          "base_uri": "https://localhost:8080/"
        },
        "id": "6dMEnt9qq5uC",
        "outputId": "eca37623-a4af-413c-ca50-d47dc9457303"
      },
      "source": [
        "from google.colab import drive\n",
        "drive.mount('/content/drive')"
      ],
      "execution_count": 79,
      "outputs": [
        {
          "output_type": "stream",
          "text": [
            "Drive already mounted at /content/drive; to attempt to forcibly remount, call drive.mount(\"/content/drive\", force_remount=True).\n"
          ],
          "name": "stdout"
        }
      ]
    },
    {
      "cell_type": "code",
      "metadata": {
        "id": "KgfB2tkzuswu"
      },
      "source": [
        "from PIL import Image\n",
        "import numpy as np\n",
        "import zipfile\n",
        "from io import StringIO\n",
        "import imghdr\n",
        "import cv2 \n",
        "from sklearn.model_selection import train_test_split\n",
        "from torchvision import models\n",
        "import torch\n",
        "from torchvision import transforms\n",
        "import tensorflow as tf"
      ],
      "execution_count": 80,
      "outputs": []
    },
    {
      "cell_type": "code",
      "metadata": {
        "id": "5mPAnbTjEywj"
      },
      "source": [
        "transform = transforms.Compose([transforms.ToTensor(),\n",
        "                                transforms.Resize(227)])"
      ],
      "execution_count": 81,
      "outputs": []
    },
    {
      "cell_type": "code",
      "metadata": {
        "id": "IyxjbUlZ-TBt"
      },
      "source": [
        "alexnet = models.alexnet(pretrained=True)\n",
        "alexnet.classifier=alexnet.classifier[0:5]"
      ],
      "execution_count": 82,
      "outputs": []
    },
    {
      "cell_type": "markdown",
      "metadata": {
        "id": "j3w3hKZluxRy"
      },
      "source": [
        "#Đọc file data "
      ]
    },
    {
      "cell_type": "code",
      "metadata": {
        "id": "PwKgFogW1L2_"
      },
      "source": [
        "path_to_zip_file = '/content/drive/MyDrive/Thị giác máy tính/Thị giác máy tính nâng cao/Dog and Cat.zip'\n",
        "imgzip = zipfile.ZipFile(path_to_zip_file)\n",
        "inflist = imgzip.infolist()\n",
        "images=[]\n",
        "labels=[]\n",
        "for f in inflist:\n",
        "     if '.jpg' in f.filename:\n",
        "       ifile = imgzip.open(f)\n",
        "       img = Image.open(ifile)\n",
        "       #Cho vào mạng alexnet\n",
        "       img_t=transform(img)\n",
        "       batch_t = torch.unsqueeze(img_t,0)\n",
        "       out = alexnet(batch_t)\n",
        "       out=out.detach().numpy()/255.0\n",
        "      #  image_as_array = np.array(img, np.uint8)\n",
        "      #  image_as_array = cv2.resize(image_as_array,(227,227))\n",
        "       images.append(out)\n",
        "       if 'dog' in f.filename: labels.append(1)\n",
        "       elif 'cat' in f.filename: labels.append(0)"
      ],
      "execution_count": 83,
      "outputs": []
    },
    {
      "cell_type": "code",
      "metadata": {
        "id": "sOa_evRLBFPd"
      },
      "source": [
        "images=np.array(images)\n",
        "labels=np.array(labels)"
      ],
      "execution_count": 84,
      "outputs": []
    },
    {
      "cell_type": "markdown",
      "metadata": {
        "id": "7_sdVdT4-ZmN"
      },
      "source": [
        "Load pre-train model"
      ]
    },
    {
      "cell_type": "code",
      "metadata": {
        "id": "BFJDvHcxCX4m"
      },
      "source": [
        "X_train, X_test, y_train, y_test = train_test_split(images,labels, test_size=0.2, random_state=42)"
      ],
      "execution_count": 85,
      "outputs": []
    },
    {
      "cell_type": "code",
      "metadata": {
        "id": "qbMXSoECALqF"
      },
      "source": [
        "X_train=X_train.reshape(X_train.shape[0],X_train.shape[1]*X_train.shape[2])\n",
        "X_test=X_test.reshape(X_test.shape[0],X_test.shape[1]*X_test.shape[2])"
      ],
      "execution_count": 86,
      "outputs": []
    },
    {
      "cell_type": "code",
      "metadata": {
        "id": "7gNf2AZBbaeJ",
        "outputId": "0d68b206-aca8-4aea-e69b-80930e0f3774",
        "colab": {
          "base_uri": "https://localhost:8080/"
        }
      },
      "source": [
        "X_train"
      ],
      "execution_count": 96,
      "outputs": [
        {
          "output_type": "execute_result",
          "data": {
            "text/plain": [
              "array([[ -3.6326578 ,   0.9012166 ,  -1.8559165 , ...,  -3.382327  ,\n",
              "         -6.157464  ,  -3.5215354 ],\n",
              "       [ -8.411607  ,  -7.082859  ,  -2.5301101 , ...,  -5.0959353 ,\n",
              "         -2.3819644 ,  -1.6842092 ],\n",
              "       [ -2.9649746 ,  -2.0328767 ,  -1.3086956 , ...,  -1.2761222 ,\n",
              "         -5.6152897 ,   0.57499486],\n",
              "       ...,\n",
              "       [ -5.132268  ,  -3.1537852 ,  -3.1077569 , ...,  -2.4760664 ,\n",
              "         -8.920271  ,  -3.4972641 ],\n",
              "       [-28.108461  , -22.496906  ,  -5.283181  , ...,  -7.8922634 ,\n",
              "        -17.40657   , -22.050331  ],\n",
              "       [ -7.6477966 ,  -7.778644  ,  -1.1458132 , ...,  -5.719802  ,\n",
              "        -13.386326  , -13.346991  ]], dtype=float32)"
            ]
          },
          "metadata": {
            "tags": []
          },
          "execution_count": 96
        }
      ]
    },
    {
      "cell_type": "code",
      "metadata": {
        "colab": {
          "base_uri": "https://localhost:8080/"
        },
        "id": "pSrPsSK7Czmf",
        "outputId": "0f6bb784-8fc8-480a-8f31-6559fe56aaff"
      },
      "source": [
        "from sklearn.svm import SVC\n",
        "model = SVC(gamma='auto')\n",
        "model.fit(X_train,y_train)"
      ],
      "execution_count": 98,
      "outputs": [
        {
          "output_type": "execute_result",
          "data": {
            "text/plain": [
              "SVC(C=1.0, break_ties=False, cache_size=200, class_weight=None, coef0=0.0,\n",
              "    decision_function_shape='ovr', degree=3, gamma='auto', kernel='rbf',\n",
              "    max_iter=-1, probability=False, random_state=None, shrinking=True,\n",
              "    tol=0.001, verbose=False)"
            ]
          },
          "metadata": {
            "tags": []
          },
          "execution_count": 98
        }
      ]
    },
    {
      "cell_type": "code",
      "metadata": {
        "id": "D5NnUPvDGxl6"
      },
      "source": [
        "y_pred=model.predict(X_test)"
      ],
      "execution_count": 99,
      "outputs": []
    },
    {
      "cell_type": "code",
      "metadata": {
        "id": "FGNBH7XiNy74",
        "colab": {
          "base_uri": "https://localhost:8080/"
        },
        "outputId": "857e5337-95ac-403c-fc3a-11116b5842c6"
      },
      "source": [
        " from sklearn.metrics import accuracy_score\n",
        " accuracy_score(y_test, y_pred)"
      ],
      "execution_count": 100,
      "outputs": [
        {
          "output_type": "execute_result",
          "data": {
            "text/plain": [
              "0.475"
            ]
          },
          "metadata": {
            "tags": []
          },
          "execution_count": 100
        }
      ]
    },
    {
      "cell_type": "code",
      "metadata": {
        "id": "d_YJoNvDN8vM",
        "colab": {
          "base_uri": "https://localhost:8080/"
        },
        "outputId": "a19f5b5b-fa70-4635-8733-642d6fc6fa6b"
      },
      "source": [
        "y_test"
      ],
      "execution_count": 101,
      "outputs": [
        {
          "output_type": "execute_result",
          "data": {
            "text/plain": [
              "array([0, 0, 0, 1, 1, 1, 0, 1, 1, 0, 0, 1, 1, 0, 1, 1, 0, 1, 0, 0, 1, 0,\n",
              "       1, 0, 0, 0, 0, 0, 1, 1, 0, 0, 0, 0, 1, 1, 1, 1, 1, 0])"
            ]
          },
          "metadata": {
            "tags": []
          },
          "execution_count": 101
        }
      ]
    },
    {
      "cell_type": "code",
      "metadata": {
        "id": "c79NdGmRN1bA",
        "outputId": "31fed28e-ce89-4fec-bacd-7d5356027727",
        "colab": {
          "base_uri": "https://localhost:8080/"
        }
      },
      "source": [
        "y_pred"
      ],
      "execution_count": 102,
      "outputs": [
        {
          "output_type": "execute_result",
          "data": {
            "text/plain": [
              "array([1, 1, 1, 1, 1, 1, 1, 1, 1, 1, 1, 1, 1, 1, 1, 1, 1, 1, 1, 1, 1, 1,\n",
              "       1, 1, 1, 1, 1, 1, 1, 1, 1, 1, 1, 1, 1, 1, 1, 1, 1, 1])"
            ]
          },
          "metadata": {
            "tags": []
          },
          "execution_count": 102
        }
      ]
    }
  ]
}