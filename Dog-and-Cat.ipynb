{
  "nbformat": 4,
  "nbformat_minor": 0,
  "metadata": {
    "colab": {
      "name": "Untitled127.ipynb",
      "provenance": [],
      "toc_visible": true,
      "authorship_tag": "ABX9TyN3AoXD8YWydlpdfQuUXGEO",
      "include_colab_link": true
    },
    "kernelspec": {
      "name": "python3",
      "display_name": "Python 3"
    },
    "language_info": {
      "name": "python"
    }
  },
  "cells": [
    {
      "cell_type": "markdown",
      "metadata": {
        "id": "view-in-github",
        "colab_type": "text"
      },
      "source": [
        "<a href=\"https://colab.research.google.com/github/lephuocdat2000/Advanced-CV/blob/main/Dog-and-Cat.ipynb\" target=\"_parent\"><img src=\"https://colab.research.google.com/assets/colab-badge.svg\" alt=\"Open In Colab\"/></a>"
      ]
    },
    {
      "cell_type": "code",
      "metadata": {
        "colab": {
          "base_uri": "https://localhost:8080/"
        },
        "id": "6dMEnt9qq5uC",
        "outputId": "46bc800a-96c0-47f7-bdf9-bda5fe5559ae"
      },
      "source": [
        "from google.colab import drive\n",
        "drive.mount('/content/drive')"
      ],
      "execution_count": 225,
      "outputs": [
        {
          "output_type": "stream",
          "text": [
            "Drive already mounted at /content/drive; to attempt to forcibly remount, call drive.mount(\"/content/drive\", force_remount=True).\n"
          ],
          "name": "stdout"
        }
      ]
    },
    {
      "cell_type": "code",
      "metadata": {
        "id": "ONn38gWJE-Ve",
        "colab": {
          "base_uri": "https://localhost:8080/"
        },
        "outputId": "d93f0c72-79ae-428f-9f35-375cf72bbc81"
      },
      "source": [
        "!pip install alexnet_pytorch"
      ],
      "execution_count": 226,
      "outputs": [
        {
          "output_type": "stream",
          "text": [
            "Requirement already satisfied: alexnet_pytorch in /usr/local/lib/python3.7/dist-packages (0.2.0)\n",
            "Requirement already satisfied: torch in /usr/local/lib/python3.7/dist-packages (from alexnet_pytorch) (1.8.1+cu101)\n",
            "Requirement already satisfied: typing-extensions in /usr/local/lib/python3.7/dist-packages (from torch->alexnet_pytorch) (3.7.4.3)\n",
            "Requirement already satisfied: numpy in /usr/local/lib/python3.7/dist-packages (from torch->alexnet_pytorch) (1.19.5)\n"
          ],
          "name": "stdout"
        }
      ]
    },
    {
      "cell_type": "code",
      "metadata": {
        "id": "KgfB2tkzuswu"
      },
      "source": [
        "from PIL import Image\n",
        "import numpy as np\n",
        "import zipfile\n",
        "from io import StringIO\n",
        "import imghdr\n",
        "import cv2 \n",
        "from sklearn.model_selection import train_test_split\n",
        "#from torchvision import models\n",
        "import torch\n",
        "from torchvision import transforms\n",
        "import tensorflow as tf\n",
        "from sklearn.preprocessing import StandardScaler\n",
        "from sklearn.pipeline import make_pipeline\n",
        "from sklearn.metrics import accuracy_score\n",
        "from sklearn.svm import SVC\n",
        "from sklearn.metrics import classification_report\n",
        "from sklearn.metrics import confusion_matrix\n",
        "from alexnet_pytorch import AlexNet"
      ],
      "execution_count": 227,
      "outputs": []
    },
    {
      "cell_type": "code",
      "metadata": {
        "id": "5mPAnbTjEywj"
      },
      "source": [
        "transform = transforms.Compose([transforms.ToTensor(),\n",
        "                               transforms.RandomHorizontalFlip(),\n",
        "                               transforms.CenterCrop(250),\n",
        "                               transforms.Resize(227)])"
      ],
      "execution_count": 228,
      "outputs": []
    },
    {
      "cell_type": "code",
      "metadata": {
        "id": "IyxjbUlZ-TBt"
      },
      "source": [
        "# alexnet1= models.alexnet(pretrained=True)\n",
        "# alexnet1.classifier=alexnet1.classifier[0:3]\n",
        "# alexnet2=models.alexnet(pretrained=True)\n",
        "# alexnet2.classifier=alexnet2.classifier[0:6]"
      ],
      "execution_count": 229,
      "outputs": []
    },
    {
      "cell_type": "code",
      "metadata": {
        "id": "b8n0dkKsEva8",
        "colab": {
          "base_uri": "https://localhost:8080/"
        },
        "outputId": "0c9aa11c-69c8-4a7c-8aa5-50bda7126d62"
      },
      "source": [
        "alexnet1= AlexNet.from_pretrained('alexnet')\n",
        "alexnet1.classifier=alexnet1.classifier[0:3]\n",
        "alexnet2=AlexNet.from_pretrained('alexnet')\n",
        "alexnet2.classifier=alexnet2.classifier[0:6]"
      ],
      "execution_count": 230,
      "outputs": [
        {
          "output_type": "stream",
          "text": [
            "Loaded pretrained weights for alexnet\n",
            "Loaded pretrained weights for alexnet\n"
          ],
          "name": "stdout"
        }
      ]
    },
    {
      "cell_type": "markdown",
      "metadata": {
        "id": "j3w3hKZluxRy"
      },
      "source": [
        "#Đọc file data "
      ]
    },
    {
      "cell_type": "code",
      "metadata": {
        "id": "PwKgFogW1L2_"
      },
      "source": [
        "def Read_data(deep_model):\n",
        "  path_to_zip_file = '/content/drive/MyDrive/Thị giác máy tính/Thị giác máy tính nâng cao/Dog and Cat.zip'\n",
        "  imgzip = zipfile.ZipFile(path_to_zip_file)\n",
        "  inflist = imgzip.infolist()\n",
        "  images=[]\n",
        "  labels=[]\n",
        "  for f in inflist:\n",
        "      if '.jpg' in f.filename:\n",
        "        ifile = imgzip.open(f)\n",
        "        img = Image.open(ifile)\n",
        "        #Cho vào mạng alexnet\n",
        "        img_t=transform(img)\n",
        "        batch_t = torch.unsqueeze(img_t,0)\n",
        "        out = deep_model(batch_t)\n",
        "        out=out.detach().numpy()\n",
        "        images.append(out)\n",
        "        if 'dog' in f.filename: labels.append(1)\n",
        "        elif 'cat' in f.filename: labels.append(0)\n",
        "  images=np.array(images)\n",
        "  labels=np.array(labels)\n",
        "  return images,labels"
      ],
      "execution_count": 231,
      "outputs": []
    },
    {
      "cell_type": "code",
      "metadata": {
        "id": "wyrcEzjXs0db"
      },
      "source": [
        "images1,labels1 = Read_data(alexnet1)\n",
        "images2,labels2 = Read_data(alexnet2)"
      ],
      "execution_count": 232,
      "outputs": []
    },
    {
      "cell_type": "markdown",
      "metadata": {
        "id": "9L2IDTWoyXOr"
      },
      "source": [
        "# Train model"
      ]
    },
    {
      "cell_type": "code",
      "metadata": {
        "id": "pSrPsSK7Czmf"
      },
      "source": [
        "def Split_data(images,labels):\n",
        "  X_train, X_test, y_train, y_test = train_test_split(images,labels, test_size=0.2, random_state=42)\n",
        "  X_train=X_train.reshape(X_train.shape[0],X_train.shape[1]*X_train.shape[2])\n",
        "  X_test=X_test.reshape(X_test.shape[0],X_test.shape[1]*X_test.shape[2])\n",
        "  return X_train,X_test,y_train,y_test\n",
        "def Train_Function(X,y):\n",
        "   #model = make_pipeline(StandardScaler(), SVC(gamma='auto'))\n",
        "   model = SVC(gamma='auto')\n",
        "   model.fit(X,y)\n",
        "   return model\n",
        "def Accuracy(model,X,y_true):\n",
        "   y_pred=model.predict(X)\n",
        "   return y_pred,accuracy_score(y_pred,y_true)"
      ],
      "execution_count": 233,
      "outputs": []
    },
    {
      "cell_type": "code",
      "metadata": {
        "colab": {
          "base_uri": "https://localhost:8080/"
        },
        "id": "64S-p1Upqny9",
        "outputId": "5f333d16-7f72-43ed-f06a-204adb6afbc6"
      },
      "source": [
        "X_train_fc1,X_test_fc1,y_train_fc1,y_test_fc1 = Split_data(images1,labels1)\n",
        "X_train_fc2,X_test_fc2,y_train_fc2,y_test_fc2 = Split_data(images2,labels2)\n",
        "model1=Train_Function(X_train_fc1,y_train_fc1)\n",
        "model2=Train_Function(X_train_fc2,y_train_fc2)\n",
        "y_pred_train_fc1,Accuracy_Train_FC1 = Accuracy(model1,X_train_fc1,y_train_fc1)\n",
        "y_pred_test_fc1,Accuracy_Test_FC1 = Accuracy(model1,X_test_fc1,y_test_fc1)\n",
        "y_pred_train_fc2,Accuracy_Train_FC2 = Accuracy(model2,X_train_fc2,y_train_fc2)\n",
        "y_pred_test_fc2,Accuracy_Test_FC2 = Accuracy(model2,X_test_fc2,y_test_fc2)\n",
        "print('Accuracy_FC1:',Accuracy_Test_FC1)\n",
        "print('Accuracy_FC2:',Accuracy_Test_FC2)"
      ],
      "execution_count": 234,
      "outputs": [
        {
          "output_type": "stream",
          "text": [
            "Accuracy_FC1: 0.8780487804878049\n",
            "Accuracy_FC2: 0.9024390243902439\n"
          ],
          "name": "stdout"
        }
      ]
    },
    {
      "cell_type": "code",
      "metadata": {
        "colab": {
          "base_uri": "https://localhost:8080/"
        },
        "id": "47WhULENqyZ3",
        "outputId": "2d6c4c1e-e842-4d87-f4dd-7b18ddfed5c0"
      },
      "source": [
        "from sklearn.metrics import f1_score,precision_score,recall_score\n",
        "print('precision_fc1:',precision_score(y_pred_test_fc1,y_test_fc1,average='binary'))\n",
        "print('precision_fc2:',precision_score(y_pred_test_fc2,y_test_fc2,average='binary'))\n",
        "print('recall_fc1:',recall_score(y_pred_test_fc1,y_test_fc1,average='binary'))\n",
        "print('recall_fc2:',recall_score(y_pred_test_fc2,y_test_fc2,average='binary'))\n",
        "print('f1_score_fc1:',f1_score(y_pred_test_fc1,y_test_fc1,average='binary'))\n",
        "print('f1_score_fc2:',f1_score(y_pred_test_fc2,y_test_fc2,average='binary'))"
      ],
      "execution_count": 235,
      "outputs": [
        {
          "output_type": "stream",
          "text": [
            "precision_fc1: 0.8947368421052632\n",
            "precision_fc2: 0.9473684210526315\n",
            "recall_fc1: 0.85\n",
            "recall_fc2: 0.8571428571428571\n",
            "f1_score_fc1: 0.8717948717948718\n",
            "f1_score_fc2: 0.9\n"
          ],
          "name": "stdout"
        }
      ]
    },
    {
      "cell_type": "code",
      "metadata": {
        "colab": {
          "base_uri": "https://localhost:8080/",
          "height": 574
        },
        "id": "ueK5592AziUx",
        "outputId": "76a0c10b-b789-49f4-c6c2-00c6ddc138f9"
      },
      "source": [
        "import matplotlib.pyplot as plt  \n",
        "from sklearn.metrics import plot_confusion_matrix\n",
        "plt.figure()\n",
        "plot_confusion_matrix(model1, X_test_fc1, y_test_fc1)\n",
        "plt.figure()\n",
        "plot_confusion_matrix(model2, X_test_fc2, y_test_fc2)\n",
        "plt.show()"
      ],
      "execution_count": 236,
      "outputs": [
        {
          "output_type": "display_data",
          "data": {
            "text/plain": [
              "<Figure size 432x288 with 0 Axes>"
            ]
          },
          "metadata": {
            "tags": []
          }
        },
        {
          "output_type": "display_data",
          "data": {
            "image/png": "[encoded data removed]",
            "text/plain": [
              "<Figure size 432x288 with 2 Axes>"
            ]
          },
          "metadata": {
            "tags": [],
            "needs_background": "light"
          }
        },
        {
          "output_type": "display_data",
          "data": {
            "text/plain": [
              "<Figure size 432x288 with 0 Axes>"
            ]
          },
          "metadata": {
            "tags": []
          }
        },
        {
          "output_type": "display_data",
          "data": {
            "image/png": "[encoded data removed]",
            "text/plain": [
              "<Figure size 432x288 with 2 Axes>"
            ]
          },
          "metadata": {
            "tags": [],
            "needs_background": "light"
          }
        }
      ]
    }
  ]
}