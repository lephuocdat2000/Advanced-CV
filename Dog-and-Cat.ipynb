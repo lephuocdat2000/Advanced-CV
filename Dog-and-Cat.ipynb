{
  "nbformat": 4,
  "nbformat_minor": 0,
  "metadata": {
    "colab": {
      "name": "Untitled127.ipynb",
      "provenance": [],
      "toc_visible": true,
      "authorship_tag": "ABX9TyPiT7cmSKJSEIRnqiOcmZfq",
      "include_colab_link": true
    },
    "kernelspec": {
      "name": "python3",
      "display_name": "Python 3"
    },
    "language_info": {
      "name": "python"
    }
  },
  "cells": [
    {
      "cell_type": "markdown",
      "metadata": {
        "id": "view-in-github",
        "colab_type": "text"
      },
      "source": [
        "<a href=\"https://colab.research.google.com/github/lephuocdat2000/Advanced-CV/blob/main/Dog-and-Cat.ipynb\" target=\"_parent\"><img src=\"https://colab.research.google.com/assets/colab-badge.svg\" alt=\"Open In Colab\"/></a>"
      ]
    },
    {
      "cell_type": "code",
      "metadata": {
        "colab": {
          "base_uri": "https://localhost:8080/"
        },
        "id": "6dMEnt9qq5uC",
        "outputId": "445c9939-02e8-4d15-9ea3-472eab7d7457"
      },
      "source": [
        "from google.colab import drive\n",
        "drive.mount('/content/drive')"
      ],
      "execution_count": 213,
      "outputs": [
        {
          "output_type": "stream",
          "text": [
            "Drive already mounted at /content/drive; to attempt to forcibly remount, call drive.mount(\"/content/drive\", force_remount=True).\n"
          ],
          "name": "stdout"
        }
      ]
    },
    {
      "cell_type": "code",
      "metadata": {
        "id": "ONn38gWJE-Ve",
        "outputId": "4ed5f7b0-931c-4f5c-e425-72fe5a045159",
        "colab": {
          "base_uri": "https://localhost:8080/"
        }
      },
      "source": [
        "!pip install alexnet_pytorch"
      ],
      "execution_count": 214,
      "outputs": [
        {
          "output_type": "stream",
          "text": [
            "Requirement already satisfied: alexnet_pytorch in /usr/local/lib/python3.7/dist-packages (0.2.0)\n",
            "Requirement already satisfied: torch in /usr/local/lib/python3.7/dist-packages (from alexnet_pytorch) (1.8.1+cu101)\n",
            "Requirement already satisfied: numpy in /usr/local/lib/python3.7/dist-packages (from torch->alexnet_pytorch) (1.19.5)\n",
            "Requirement already satisfied: typing-extensions in /usr/local/lib/python3.7/dist-packages (from torch->alexnet_pytorch) (3.7.4.3)\n"
          ],
          "name": "stdout"
        }
      ]
    },
    {
      "cell_type": "code",
      "metadata": {
        "id": "KgfB2tkzuswu"
      },
      "source": [
        "from PIL import Image\n",
        "import numpy as np\n",
        "import zipfile\n",
        "from io import StringIO\n",
        "import imghdr\n",
        "import cv2 \n",
        "from sklearn.model_selection import train_test_split\n",
        "from torchvision import models\n",
        "import torch\n",
        "from torchvision import transforms\n",
        "import tensorflow as tf\n",
        "from sklearn.preprocessing import StandardScaler\n",
        "from sklearn.pipeline import make_pipeline\n",
        "from sklearn.metrics import accuracy_score\n",
        "from sklearn.svm import SVC\n",
        "from sklearn.metrics import classification_report\n",
        "from sklearn.metrics import confusion_matrix\n",
        "from alexnet_pytorch import AlexNet"
      ],
      "execution_count": 215,
      "outputs": []
    },
    {
      "cell_type": "code",
      "metadata": {
        "id": "5mPAnbTjEywj"
      },
      "source": [
        "transform = transforms.Compose([transforms.ToTensor(),\n",
        "                               transforms.RandomHorizontalFlip(),\n",
        "                               transforms.CenterCrop(250),\n",
        "                               transforms.Resize(227)])"
      ],
      "execution_count": 216,
      "outputs": []
    },
    {
      "cell_type": "code",
      "metadata": {
        "id": "IyxjbUlZ-TBt"
      },
      "source": [
        "# alexnet1= models.alexnet(pretrained=True)\n",
        "# alexnet1.classifier=alexnet1.classifier[0:3]\n",
        "# alexnet2=models.alexnet(pretrained=True)\n",
        "# alexnet2.classifier=alexnet2.classifier[0:6]"
      ],
      "execution_count": 217,
      "outputs": []
    },
    {
      "cell_type": "code",
      "metadata": {
        "id": "b8n0dkKsEva8",
        "outputId": "51a7a539-9400-4a9c-b424-9ec324ed7db3",
        "colab": {
          "base_uri": "https://localhost:8080/"
        }
      },
      "source": [
        "alexnet1= AlexNet.from_pretrained('alexnet')\n",
        "alexnet1.classifier=alexnet1.classifier[0:3]\n",
        "alexnet2=AlexNet.from_pretrained('alexnet')\n",
        "alexnet2.classifier=alexnet2.classifier[0:6]"
      ],
      "execution_count": 218,
      "outputs": [
        {
          "output_type": "stream",
          "text": [
            "Loaded pretrained weights for alexnet\n",
            "Loaded pretrained weights for alexnet\n"
          ],
          "name": "stdout"
        }
      ]
    },
    {
      "cell_type": "markdown",
      "metadata": {
        "id": "j3w3hKZluxRy"
      },
      "source": [
        "#Đọc file data "
      ]
    },
    {
      "cell_type": "code",
      "metadata": {
        "id": "PwKgFogW1L2_"
      },
      "source": [
        "def Read_data(deep_model):\n",
        "  path_to_zip_file = '/content/drive/MyDrive/Thị giác máy tính/Thị giác máy tính nâng cao/Dog and Cat.zip'\n",
        "  imgzip = zipfile.ZipFile(path_to_zip_file)\n",
        "  inflist = imgzip.infolist()\n",
        "  images=[]\n",
        "  labels=[]\n",
        "  for f in inflist:\n",
        "      if '.jpg' in f.filename:\n",
        "        ifile = imgzip.open(f)\n",
        "        img = Image.open(ifile)\n",
        "        #Cho vào mạng alexnet\n",
        "        img_t=transform(img)\n",
        "        batch_t = torch.unsqueeze(img_t,0)\n",
        "        out = deep_model(batch_t)\n",
        "        out=out.detach().numpy()\n",
        "        images.append(out)\n",
        "        if 'dog' in f.filename: labels.append(1)\n",
        "        elif 'cat' in f.filename: labels.append(0)\n",
        "  images=np.array(images)\n",
        "  labels=np.array(labels)\n",
        "  return images,labels"
      ],
      "execution_count": 219,
      "outputs": []
    },
    {
      "cell_type": "code",
      "metadata": {
        "id": "wyrcEzjXs0db"
      },
      "source": [
        "images1,labels1 = Read_data(alexnet1)\n",
        "images2,labels2 = Read_data(alexnet2)"
      ],
      "execution_count": 220,
      "outputs": []
    },
    {
      "cell_type": "markdown",
      "metadata": {
        "id": "9L2IDTWoyXOr"
      },
      "source": [
        "# Train model"
      ]
    },
    {
      "cell_type": "code",
      "metadata": {
        "id": "pSrPsSK7Czmf"
      },
      "source": [
        "def Split_data(images,labels):\n",
        "  X_train, X_test, y_train, y_test = train_test_split(images,labels, test_size=0.2, random_state=42)\n",
        "  X_train=X_train.reshape(X_train.shape[0],X_train.shape[1]*X_train.shape[2])\n",
        "  X_test=X_test.reshape(X_test.shape[0],X_test.shape[1]*X_test.shape[2])\n",
        "  return X_train,X_test,y_train,y_test\n",
        "def Train_Function(X,y):\n",
        "   #model = make_pipeline(StandardScaler(), SVC(gamma='auto'))\n",
        "   model = SVC(gamma='auto')\n",
        "   model.fit(X,y)\n",
        "   return model\n",
        "def Accuracy(model,X,y_true):\n",
        "   y_pred=model.predict(X)\n",
        "   return y_pred,accuracy_score(y_pred,y_true)"
      ],
      "execution_count": 221,
      "outputs": []
    },
    {
      "cell_type": "code",
      "metadata": {
        "colab": {
          "base_uri": "https://localhost:8080/"
        },
        "id": "64S-p1Upqny9",
        "outputId": "ccb0795d-278e-47df-94b9-07e224a64b26"
      },
      "source": [
        "X_train_fc1,X_test_fc1,y_train_fc1,y_test_fc1 = Split_data(images1,labels1)\n",
        "X_train_fc2,X_test_fc2,y_train_fc2,y_test_fc2 = Split_data(images2,labels2)\n",
        "model1=Train_Function(X_train_fc1,y_train_fc1)\n",
        "model2=Train_Function(X_train_fc2,y_train_fc2)\n",
        "y_pred_train_fc1,Accuracy_Train_FC1 = Accuracy(model1,X_train_fc1,y_train_fc1)\n",
        "y_pred_test_fc1,Accuracy_Test_FC1 = Accuracy(model1,X_test_fc1,y_test_fc1)\n",
        "y_pred_train_fc2,Accuracy_Train_FC2 = Accuracy(model2,X_train_fc2,y_train_fc2)\n",
        "y_pred_test_fc2,Accuracy_Test_FC2 = Accuracy(model2,X_test_fc2,y_test_fc2)\n",
        "print('Accuracy_FC1:',Accuracy_Test_FC1)\n",
        "print('Accuracy_FC2:',Accuracy_Test_FC2)"
      ],
      "execution_count": 222,
      "outputs": [
        {
          "output_type": "stream",
          "text": [
            "Accuracy_FC1: 0.8780487804878049\n",
            "Accuracy_FC2: 0.8780487804878049\n"
          ],
          "name": "stdout"
        }
      ]
    },
    {
      "cell_type": "code",
      "metadata": {
        "colab": {
          "base_uri": "https://localhost:8080/"
        },
        "id": "47WhULENqyZ3",
        "outputId": "c90f9918-a319-4d2e-90e4-e47ec5637b21"
      },
      "source": [
        "from sklearn.metrics import f1_score,precision_score,recall_score\n",
        "print('precision_fc1:',precision_score(y_pred_test_fc1,y_test_fc1,average='binary'))\n",
        "print('precision_fc2:',precision_score(y_pred_test_fc2,y_test_fc2,average='binary'))\n",
        "print('recall_fc1:',recall_score(y_pred_test_fc1,y_test_fc1,average='binary'))\n",
        "print('recall_fc2:',recall_score(y_pred_test_fc2,y_test_fc2,average='binary'))\n",
        "print('f1_score_fc1:',f1_score(y_pred_test_fc1,y_test_fc1,average='binary'))\n",
        "print('f1_score_fc2:',f1_score(y_pred_test_fc2,y_test_fc2,average='binary'))"
      ],
      "execution_count": 223,
      "outputs": [
        {
          "output_type": "stream",
          "text": [
            "precision_fc1: 0.8947368421052632\n",
            "precision_fc2: 0.8947368421052632\n",
            "recall_fc1: 0.85\n",
            "recall_fc2: 0.85\n",
            "f1_score_fc1: 0.8717948717948718\n",
            "f1_score_fc2: 0.8717948717948718\n"
          ],
          "name": "stdout"
        }
      ]
    },
    {
      "cell_type": "code",
      "metadata": {
        "colab": {
          "base_uri": "https://localhost:8080/",
          "height": 574
        },
        "id": "ueK5592AziUx",
        "outputId": "0d8f1a01-b7d4-4951-b049-84f826f42b81"
      },
      "source": [
        "import matplotlib.pyplot as plt  \n",
        "from sklearn.metrics import plot_confusion_matrix\n",
        "plt.figure()\n",
        "plot_confusion_matrix(model1, X_test_fc1, y_test_fc1)\n",
        "plt.figure()\n",
        "plot_confusion_matrix(model2, X_test_fc2, y_test_fc2)\n",
        "plt.show()"
      ],
      "execution_count": 224,
      "outputs": [
        {
          "output_type": "display_data",
          "data": {
            "text/plain": [
              "<Figure size 432x288 with 0 Axes>"
            ]
          },
          "metadata": {
            "tags": []
          }
        },
        {
          "output_type": "display_data",
          "data": {
            "image/png": "[encoded data removed]",
            "text/plain": [
              "<Figure size 432x288 with 2 Axes>"
            ]
          },
          "metadata": {
            "tags": [],
            "needs_background": "light"
          }
        },
        {
          "output_type": "display_data",
          "data": {
            "text/plain": [
              "<Figure size 432x288 with 0 Axes>"
            ]
          },
          "metadata": {
            "tags": []
          }
        },
        {
          "output_type": "display_data",
          "data": {
            "image/png": "[encoded data removed]",
            "text/plain": [
              "<Figure size 432x288 with 2 Axes>"
            ]
          },
          "metadata": {
            "tags": [],
            "needs_background": "light"
          }
        }
      ]
    }
  ]
}