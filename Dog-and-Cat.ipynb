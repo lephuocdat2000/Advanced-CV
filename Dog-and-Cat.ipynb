{
  "nbformat": 4,
  "nbformat_minor": 0,
  "metadata": {
    "colab": {
      "name": "Untitled127.ipynb",
      "provenance": [],
      "toc_visible": true,
      "authorship_tag": "ABX9TyN3AoXD8YWydlpdfQuUXGEO",
      "include_colab_link": true
    },
    "kernelspec": {
      "name": "python3",
      "display_name": "Python 3"
    },
    "language_info": {
      "name": "python"
    },
    "widgets": {
      "application/vnd.jupyter.widget-state+json": {
        "4998e46e53ed4865adf7a5bad9da0be0": {
          "model_module": "@jupyter-widgets/controls",
          "model_name": "HBoxModel",
          "state": {
            "_view_name": "HBoxView",
            "_dom_classes": [],
            "_model_name": "HBoxModel",
            "_view_module": "@jupyter-widgets/controls",
            "_model_module_version": "1.5.0",
            "_view_count": null,
            "_view_module_version": "1.5.0",
            "box_style": "",
            "layout": "IPY_MODEL_952657ee27474fc18137e81613882f63",
            "_model_module": "@jupyter-widgets/controls",
            "children": [
              "IPY_MODEL_292cc5a5284844109e2e4fcfd248ff84",
              "IPY_MODEL_5e66a525a8174fc98dc1fed5643a941d"
            ]
          }
        },
        "952657ee27474fc18137e81613882f63": {
          "model_module": "@jupyter-widgets/base",
          "model_name": "LayoutModel",
          "state": {
            "_view_name": "LayoutView",
            "grid_template_rows": null,
            "right": null,
            "justify_content": null,
            "_view_module": "@jupyter-widgets/base",
            "overflow": null,
            "_model_module_version": "1.2.0",
            "_view_count": null,
            "flex_flow": null,
            "width": null,
            "min_width": null,
            "border": null,
            "align_items": null,
            "bottom": null,
            "_model_module": "@jupyter-widgets/base",
            "top": null,
            "grid_column": null,
            "overflow_y": null,
            "overflow_x": null,
            "grid_auto_flow": null,
            "grid_area": null,
            "grid_template_columns": null,
            "flex": null,
            "_model_name": "LayoutModel",
            "justify_items": null,
            "grid_row": null,
            "max_height": null,
            "align_content": null,
            "visibility": null,
            "align_self": null,
            "height": null,
            "min_height": null,
            "padding": null,
            "grid_auto_rows": null,
            "grid_gap": null,
            "max_width": null,
            "order": null,
            "_view_module_version": "1.2.0",
            "grid_template_areas": null,
            "object_position": null,
            "object_fit": null,
            "grid_auto_columns": null,
            "margin": null,
            "display": null,
            "left": null
          }
        },
        "292cc5a5284844109e2e4fcfd248ff84": {
          "model_module": "@jupyter-widgets/controls",
          "model_name": "FloatProgressModel",
          "state": {
            "_view_name": "ProgressView",
            "style": "IPY_MODEL_9df53bf9ffc14aa981dd140356536d36",
            "_dom_classes": [],
            "description": "100%",
            "_model_name": "FloatProgressModel",
            "bar_style": "success",
            "max": 244418560,
            "_view_module": "@jupyter-widgets/controls",
            "_model_module_version": "1.5.0",
            "value": 244418560,
            "_view_count": null,
            "_view_module_version": "1.5.0",
            "orientation": "horizontal",
            "min": 0,
            "description_tooltip": null,
            "_model_module": "@jupyter-widgets/controls",
            "layout": "IPY_MODEL_1df298225982470ab4ddbfc65273379a"
          }
        },
        "5e66a525a8174fc98dc1fed5643a941d": {
          "model_module": "@jupyter-widgets/controls",
          "model_name": "HTMLModel",
          "state": {
            "_view_name": "HTMLView",
            "style": "IPY_MODEL_33fa312bc411458482d33fb9a3b677eb",
            "_dom_classes": [],
            "description": "",
            "_model_name": "HTMLModel",
            "placeholder": "​",
            "_view_module": "@jupyter-widgets/controls",
            "_model_module_version": "1.5.0",
            "value": " 233M/233M [00:36&lt;00:00, 6.74MB/s]",
            "_view_count": null,
            "_view_module_version": "1.5.0",
            "description_tooltip": null,
            "_model_module": "@jupyter-widgets/controls",
            "layout": "IPY_MODEL_7e2f63f6ebb8427caf344ff8f5b3d3c1"
          }
        },
        "9df53bf9ffc14aa981dd140356536d36": {
          "model_module": "@jupyter-widgets/controls",
          "model_name": "ProgressStyleModel",
          "state": {
            "_view_name": "StyleView",
            "_model_name": "ProgressStyleModel",
            "description_width": "initial",
            "_view_module": "@jupyter-widgets/base",
            "_model_module_version": "1.5.0",
            "_view_count": null,
            "_view_module_version": "1.2.0",
            "bar_color": null,
            "_model_module": "@jupyter-widgets/controls"
          }
        },
        "1df298225982470ab4ddbfc65273379a": {
          "model_module": "@jupyter-widgets/base",
          "model_name": "LayoutModel",
          "state": {
            "_view_name": "LayoutView",
            "grid_template_rows": null,
            "right": null,
            "justify_content": null,
            "_view_module": "@jupyter-widgets/base",
            "overflow": null,
            "_model_module_version": "1.2.0",
            "_view_count": null,
            "flex_flow": null,
            "width": null,
            "min_width": null,
            "border": null,
            "align_items": null,
            "bottom": null,
            "_model_module": "@jupyter-widgets/base",
            "top": null,
            "grid_column": null,
            "overflow_y": null,
            "overflow_x": null,
            "grid_auto_flow": null,
            "grid_area": null,
            "grid_template_columns": null,
            "flex": null,
            "_model_name": "LayoutModel",
            "justify_items": null,
            "grid_row": null,
            "max_height": null,
            "align_content": null,
            "visibility": null,
            "align_self": null,
            "height": null,
            "min_height": null,
            "padding": null,
            "grid_auto_rows": null,
            "grid_gap": null,
            "max_width": null,
            "order": null,
            "_view_module_version": "1.2.0",
            "grid_template_areas": null,
            "object_position": null,
            "object_fit": null,
            "grid_auto_columns": null,
            "margin": null,
            "display": null,
            "left": null
          }
        },
        "33fa312bc411458482d33fb9a3b677eb": {
          "model_module": "@jupyter-widgets/controls",
          "model_name": "DescriptionStyleModel",
          "state": {
            "_view_name": "StyleView",
            "_model_name": "DescriptionStyleModel",
            "description_width": "",
            "_view_module": "@jupyter-widgets/base",
            "_model_module_version": "1.5.0",
            "_view_count": null,
            "_view_module_version": "1.2.0",
            "_model_module": "@jupyter-widgets/controls"
          }
        },
        "7e2f63f6ebb8427caf344ff8f5b3d3c1": {
          "model_module": "@jupyter-widgets/base",
          "model_name": "LayoutModel",
          "state": {
            "_view_name": "LayoutView",
            "grid_template_rows": null,
            "right": null,
            "justify_content": null,
            "_view_module": "@jupyter-widgets/base",
            "overflow": null,
            "_model_module_version": "1.2.0",
            "_view_count": null,
            "flex_flow": null,
            "width": null,
            "min_width": null,
            "border": null,
            "align_items": null,
            "bottom": null,
            "_model_module": "@jupyter-widgets/base",
            "top": null,
            "grid_column": null,
            "overflow_y": null,
            "overflow_x": null,
            "grid_auto_flow": null,
            "grid_area": null,
            "grid_template_columns": null,
            "flex": null,
            "_model_name": "LayoutModel",
            "justify_items": null,
            "grid_row": null,
            "max_height": null,
            "align_content": null,
            "visibility": null,
            "align_self": null,
            "height": null,
            "min_height": null,
            "padding": null,
            "grid_auto_rows": null,
            "grid_gap": null,
            "max_width": null,
            "order": null,
            "_view_module_version": "1.2.0",
            "grid_template_areas": null,
            "object_position": null,
            "object_fit": null,
            "grid_auto_columns": null,
            "margin": null,
            "display": null,
            "left": null
          }
        }
      }
    }
  },
  "cells": [
    {
      "cell_type": "markdown",
      "metadata": {
        "id": "view-in-github",
        "colab_type": "text"
      },
      "source": [
        "<a href=\"https://colab.research.google.com/github/lephuocdat2000/Advanced-CV/blob/main/Dog-and-Cat.ipynb\" target=\"_parent\"><img src=\"https://colab.research.google.com/assets/colab-badge.svg\" alt=\"Open In Colab\"/></a>"
      ]
    },
    {
      "cell_type": "code",
      "metadata": {
        "colab": {
          "base_uri": "https://localhost:8080/"
        },
        "id": "6dMEnt9qq5uC",
        "outputId": "f125a81e-5f4c-457e-d96d-4407d550d542"
      },
      "source": [
        "from google.colab import drive\n",
        "drive.mount('/content/drive')"
      ],
      "execution_count": 1,
      "outputs": [
        {
          "output_type": "stream",
          "text": [
            "Mounted at /content/drive\n"
          ],
          "name": "stdout"
        }
      ]
    },
    {
      "cell_type": "code",
      "metadata": {
        "id": "ONn38gWJE-Ve",
        "colab": {
          "base_uri": "https://localhost:8080/"
        },
        "outputId": "20e50a62-2d44-4840-c83e-3a010ccf22dc"
      },
      "source": [
        "!pip install alexnet_pytorch"
      ],
      "execution_count": 2,
      "outputs": [
        {
          "output_type": "stream",
          "text": [
            "Collecting alexnet_pytorch\n",
            "  Downloading https://files.pythonhosted.org/packages/b3/2f/90df0f49aec1cf9aca611f391ff4dcb8d24123bdc71d0ecef164ef4fa6fd/alexnet_pytorch-0.2.0-py2.py3-none-any.whl\n",
            "Requirement already satisfied: torch in /usr/local/lib/python3.7/dist-packages (from alexnet_pytorch) (1.8.1+cu101)\n",
            "Requirement already satisfied: typing-extensions in /usr/local/lib/python3.7/dist-packages (from torch->alexnet_pytorch) (3.7.4.3)\n",
            "Requirement already satisfied: numpy in /usr/local/lib/python3.7/dist-packages (from torch->alexnet_pytorch) (1.19.5)\n",
            "Installing collected packages: alexnet-pytorch\n",
            "Successfully installed alexnet-pytorch-0.2.0\n"
          ],
          "name": "stdout"
        }
      ]
    },
    {
      "cell_type": "code",
      "metadata": {
        "id": "KgfB2tkzuswu"
      },
      "source": [
        "from PIL import Image\n",
        "import numpy as np\n",
        "import zipfile\n",
        "from io import StringIO\n",
        "import imghdr\n",
        "import cv2 \n",
        "from sklearn.model_selection import train_test_split\n",
        "#from torchvision import models\n",
        "import torch\n",
        "from torchvision import transforms\n",
        "import tensorflow as tf\n",
        "from sklearn.preprocessing import StandardScaler\n",
        "from sklearn.pipeline import make_pipeline\n",
        "from sklearn.metrics import accuracy_score\n",
        "from sklearn.svm import SVC\n",
        "from sklearn.metrics import classification_report\n",
        "from sklearn.metrics import confusion_matrix\n",
        "from alexnet_pytorch import AlexNet"
      ],
      "execution_count": 3,
      "outputs": []
    },
    {
      "cell_type": "code",
      "metadata": {
        "id": "5mPAnbTjEywj"
      },
      "source": [
        "transform = transforms.Compose([transforms.ToTensor(),\n",
        "                               transforms.RandomHorizontalFlip(),\n",
        "                               transforms.CenterCrop(250),\n",
        "                               transforms.Resize(227)])"
      ],
      "execution_count": 4,
      "outputs": []
    },
    {
      "cell_type": "code",
      "metadata": {
        "id": "IyxjbUlZ-TBt"
      },
      "source": [
        "# alexnet1= models.alexnet(pretrained=True)\n",
        "# alexnet1.classifier=alexnet1.classifier[0:3]\n",
        "# alexnet2=models.alexnet(pretrained=True)\n",
        "# alexnet2.classifier=alexnet2.classifier[0:6]"
      ],
      "execution_count": 5,
      "outputs": []
    },
    {
      "cell_type": "code",
      "metadata": {
        "id": "b8n0dkKsEva8",
        "colab": {
          "base_uri": "https://localhost:8080/",
          "height": 136,
          "referenced_widgets": [
            "4998e46e53ed4865adf7a5bad9da0be0",
            "952657ee27474fc18137e81613882f63",
            "292cc5a5284844109e2e4fcfd248ff84",
            "5e66a525a8174fc98dc1fed5643a941d",
            "9df53bf9ffc14aa981dd140356536d36",
            "1df298225982470ab4ddbfc65273379a",
            "33fa312bc411458482d33fb9a3b677eb",
            "7e2f63f6ebb8427caf344ff8f5b3d3c1"
          ]
        },
        "outputId": "f546ba92-f3de-4144-dd4e-0af8a21b376b"
      },
      "source": [
        "alexnet1= AlexNet.from_pretrained('alexnet')\n",
        "alexnet1.classifier=alexnet1.classifier[0:3]\n",
        "alexnet2=AlexNet.from_pretrained('alexnet')\n",
        "alexnet2.classifier=alexnet2.classifier[0:6]"
      ],
      "execution_count": 6,
      "outputs": [
        {
          "output_type": "stream",
          "text": [
            "Downloading: \"https://download.pytorch.org/models/alexnet-owt-4df8aa71.pth\" to /root/.cache/torch/hub/checkpoints/alexnet-owt-4df8aa71.pth\n"
          ],
          "name": "stderr"
        },
        {
          "output_type": "display_data",
          "data": {
            "application/vnd.jupyter.widget-view+json": {
              "model_id": "4998e46e53ed4865adf7a5bad9da0be0",
              "version_minor": 0,
              "version_major": 2
            },
            "text/plain": [
              "HBox(children=(FloatProgress(value=0.0, max=244418560.0), HTML(value='')))"
            ]
          },
          "metadata": {
            "tags": []
          }
        },
        {
          "output_type": "stream",
          "text": [
            "\n",
            "Loaded pretrained weights for alexnet\n",
            "Loaded pretrained weights for alexnet\n"
          ],
          "name": "stdout"
        }
      ]
    },
    {
      "cell_type": "markdown",
      "metadata": {
        "id": "j3w3hKZluxRy"
      },
      "source": [
        "#Đọc file data "
      ]
    },
    {
      "cell_type": "code",
      "metadata": {
        "id": "PwKgFogW1L2_"
      },
      "source": [
        "def Read_data(deep_model):\n",
        "  path_to_zip_file = '/content/drive/MyDrive/Thị giác máy tính/Thị giác máy tính nâng cao/Dog and Cat.zip'\n",
        "  imgzip = zipfile.ZipFile(path_to_zip_file)\n",
        "  inflist = imgzip.infolist()\n",
        "  images=[]\n",
        "  labels=[]\n",
        "  for f in inflist:\n",
        "      if '.jpg' in f.filename:\n",
        "        ifile = imgzip.open(f)\n",
        "        img = Image.open(ifile)\n",
        "        #Cho vào mạng alexnet\n",
        "        img_t=transform(img)\n",
        "        batch_t = torch.unsqueeze(img_t,0)\n",
        "        out = deep_model(batch_t)\n",
        "        out=out.detach().numpy()\n",
        "        images.append(out)\n",
        "        if 'dog' in f.filename: labels.append(1)\n",
        "        elif 'cat' in f.filename: labels.append(0)\n",
        "  images=np.array(images)\n",
        "  labels=np.array(labels)\n",
        "  return images,labels"
      ],
      "execution_count": 7,
      "outputs": []
    },
    {
      "cell_type": "code",
      "metadata": {
        "id": "wyrcEzjXs0db"
      },
      "source": [
        "images1,labels1 = Read_data(alexnet1)\n",
        "images2,labels2 = Read_data(alexnet2)"
      ],
      "execution_count": 8,
      "outputs": []
    },
    {
      "cell_type": "markdown",
      "metadata": {
        "id": "9L2IDTWoyXOr"
      },
      "source": [
        "# Train model"
      ]
    },
    {
      "cell_type": "code",
      "metadata": {
        "id": "pSrPsSK7Czmf"
      },
      "source": [
        "def Split_data(images,labels):\n",
        "  X_train, X_test, y_train, y_test = train_test_split(images,labels, test_size=0.2, random_state=42)\n",
        "  X_train=X_train.reshape(X_train.shape[0],X_train.shape[1]*X_train.shape[2])\n",
        "  X_test=X_test.reshape(X_test.shape[0],X_test.shape[1]*X_test.shape[2])\n",
        "  return X_train,X_test,y_train,y_test\n",
        "def Train_Function(X,y):\n",
        "   #model = make_pipeline(StandardScaler(), SVC(gamma='auto'))\n",
        "   model = SVC(gamma='auto')\n",
        "   model.fit(X,y)\n",
        "   return model\n",
        "def Accuracy(model,X,y_true):\n",
        "   y_pred=model.predict(X)\n",
        "   return y_pred,accuracy_score(y_pred,y_true)"
      ],
      "execution_count": 9,
      "outputs": []
    },
    {
      "cell_type": "code",
      "metadata": {
        "colab": {
          "base_uri": "https://localhost:8080/"
        },
        "id": "64S-p1Upqny9",
        "outputId": "2aaaa3ce-4e0d-4e22-ce71-886248fea342"
      },
      "source": [
        "X_train_fc1,X_test_fc1,y_train_fc1,y_test_fc1 = Split_data(images1,labels1)\n",
        "X_train_fc2,X_test_fc2,y_train_fc2,y_test_fc2 = Split_data(images2,labels2)\n",
        "model1=Train_Function(X_train_fc1,y_train_fc1)\n",
        "model2=Train_Function(X_train_fc2,y_train_fc2)\n",
        "y_pred_train_fc1,Accuracy_Train_FC1 = Accuracy(model1,X_train_fc1,y_train_fc1)\n",
        "y_pred_test_fc1,Accuracy_Test_FC1 = Accuracy(model1,X_test_fc1,y_test_fc1)\n",
        "y_pred_train_fc2,Accuracy_Train_FC2 = Accuracy(model2,X_train_fc2,y_train_fc2)\n",
        "y_pred_test_fc2,Accuracy_Test_FC2 = Accuracy(model2,X_test_fc2,y_test_fc2)\n",
        "print('Accuracy_FC1:',Accuracy_Test_FC1)\n",
        "print('Accuracy_FC2:',Accuracy_Test_FC2)"
      ],
      "execution_count": 10,
      "outputs": [
        {
          "output_type": "stream",
          "text": [
            "Accuracy_FC1: 0.8780487804878049\n",
            "Accuracy_FC2: 0.8536585365853658\n"
          ],
          "name": "stdout"
        }
      ]
    },
    {
      "cell_type": "code",
      "metadata": {
        "colab": {
          "base_uri": "https://localhost:8080/"
        },
        "id": "47WhULENqyZ3",
        "outputId": "05583aee-127e-4924-8797-4d8f81c11791"
      },
      "source": [
        "from sklearn.metrics import f1_score,precision_score,recall_score\n",
        "print('precision_fc1:',precision_score(y_pred_test_fc1,y_test_fc1,average='binary'))\n",
        "print('precision_fc2:',precision_score(y_pred_test_fc2,y_test_fc2,average='binary'))\n",
        "print('recall_fc1:',recall_score(y_pred_test_fc1,y_test_fc1,average='binary'))\n",
        "print('recall_fc2:',recall_score(y_pred_test_fc2,y_test_fc2,average='binary'))\n",
        "print('f1_score_fc1:',f1_score(y_pred_test_fc1,y_test_fc1,average='binary'))\n",
        "print('f1_score_fc2:',f1_score(y_pred_test_fc2,y_test_fc2,average='binary'))"
      ],
      "execution_count": 11,
      "outputs": [
        {
          "output_type": "stream",
          "text": [
            "precision_fc1: 0.8947368421052632\n",
            "precision_fc2: 0.8947368421052632\n",
            "recall_fc1: 0.85\n",
            "recall_fc2: 0.8095238095238095\n",
            "f1_score_fc1: 0.8717948717948718\n",
            "f1_score_fc2: 0.8500000000000001\n"
          ],
          "name": "stdout"
        }
      ]
    },
    {
      "cell_type": "code",
      "metadata": {
        "colab": {
          "base_uri": "https://localhost:8080/",
          "height": 578
        },
        "id": "ueK5592AziUx",
        "outputId": "e2ebe7be-fbac-41da-f04c-e1584afd6a78"
      },
      "source": [
        "import matplotlib.pyplot as plt  \n",
        "from sklearn.metrics import plot_confusion_matrix\n",
        "plt.figure()\n",
        "plot_confusion_matrix(model1, X_test_fc1, y_test_fc1)\n",
        "plt.figure()\n",
        "plot_confusion_matrix(model2, X_test_fc2, y_test_fc2)\n",
        "plt.show()"
      ],
      "execution_count": 12,
      "outputs": [
        {
          "output_type": "display_data",
          "data": {
            "text/plain": [
              "<Figure size 432x288 with 0 Axes>"
            ]
          },
          "metadata": {
            "tags": []
          }
        },
        {
          "output_type": "display_data",
          "data": {
            "image/png": "[encoded data removed]",
            "text/plain": [
              "<Figure size 432x288 with 2 Axes>"
            ]
          },
          "metadata": {
            "tags": [],
            "needs_background": "light"
          }
        },
        {
          "output_type": "display_data",
          "data": {
            "text/plain": [
              "<Figure size 432x288 with 0 Axes>"
            ]
          },
          "metadata": {
            "tags": []
          }
        },
        {
          "output_type": "display_data",
          "data": {
            "image/png": "[encoded data removed]",
            "text/plain": [
              "<Figure size 432x288 with 2 Axes>"
            ]
          },
          "metadata": {
            "tags": [],
            "needs_background": "light"
          }
        }
      ]
    }
  ]
}