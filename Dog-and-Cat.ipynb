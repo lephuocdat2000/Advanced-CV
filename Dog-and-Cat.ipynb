{
  "nbformat": 4,
  "nbformat_minor": 0,
  "metadata": {
    "colab": {
      "name": "Untitled127.ipynb",
      "provenance": [],
      "toc_visible": true,
      "authorship_tag": "ABX9TyOIgWlai44slWDnQN0Ejgcl",
      "include_colab_link": true
    },
    "kernelspec": {
      "name": "python3",
      "display_name": "Python 3"
    },
    "language_info": {
      "name": "python"
    }
  },
  "cells": [
    {
      "cell_type": "markdown",
      "metadata": {
        "id": "view-in-github",
        "colab_type": "text"
      },
      "source": [
        "<a href=\"https://colab.research.google.com/github/lephuocdat2000/Advanced-CV/blob/main/Dog-and-Cat.ipynb\" target=\"_parent\"><img src=\"https://colab.research.google.com/assets/colab-badge.svg\" alt=\"Open In Colab\"/></a>"
      ]
    },
    {
      "cell_type": "code",
      "metadata": {
        "colab": {
          "base_uri": "https://localhost:8080/"
        },
        "id": "6dMEnt9qq5uC",
        "outputId": "383e1479-2046-4de7-ca03-44283d8713cb"
      },
      "source": [
        "from google.colab import drive\n",
        "drive.mount('/content/drive')"
      ],
      "execution_count": 154,
      "outputs": [
        {
          "output_type": "stream",
          "text": [
            "Drive already mounted at /content/drive; to attempt to forcibly remount, call drive.mount(\"/content/drive\", force_remount=True).\n"
          ],
          "name": "stdout"
        }
      ]
    },
    {
      "cell_type": "code",
      "metadata": {
        "id": "KgfB2tkzuswu"
      },
      "source": [
        "from PIL import Image\n",
        "import numpy as np\n",
        "import zipfile\n",
        "from io import StringIO\n",
        "import imghdr\n",
        "import cv2 \n",
        "from sklearn.model_selection import train_test_split\n",
        "from torchvision import models\n",
        "import torch\n",
        "from torchvision import transforms\n",
        "import tensorflow as tf\n",
        "from sklearn.preprocessing import StandardScaler\n",
        "from sklearn.pipeline import make_pipeline\n",
        "from sklearn.metrics import accuracy_score\n",
        "from sklearn.svm import SVC\n",
        "from sklearn.metrics import classification_report\n",
        "from sklearn.metrics import confusion_matrix"
      ],
      "execution_count": 155,
      "outputs": []
    },
    {
      "cell_type": "code",
      "metadata": {
        "id": "5mPAnbTjEywj"
      },
      "source": [
        "transform = transforms.Compose([transforms.ToTensor(),\n",
        "                               transforms.RandomHorizontalFlip(),\n",
        "                               transforms.CenterCrop(250),\n",
        "                               transforms.Resize(227)])"
      ],
      "execution_count": 156,
      "outputs": []
    },
    {
      "cell_type": "code",
      "metadata": {
        "id": "IyxjbUlZ-TBt"
      },
      "source": [
        "alexnet1= models.alexnet(pretrained=True)\n",
        "alexnet1.classifier=alexnet1.classifier[0:3]\n",
        "alexnet2=models.alexnet(pretrained=True)\n",
        "alexnet2.classifier=alexnet2.classifier[0:6]"
      ],
      "execution_count": 157,
      "outputs": []
    },
    {
      "cell_type": "markdown",
      "metadata": {
        "id": "j3w3hKZluxRy"
      },
      "source": [
        "#Đọc file data "
      ]
    },
    {
      "cell_type": "code",
      "metadata": {
        "id": "PwKgFogW1L2_"
      },
      "source": [
        "def Read_data(deep_model):\n",
        "  path_to_zip_file = '/content/drive/MyDrive/Thị giác máy tính/Thị giác máy tính nâng cao/Dog and Cat.zip'\n",
        "  imgzip = zipfile.ZipFile(path_to_zip_file)\n",
        "  inflist = imgzip.infolist()\n",
        "  images=[]\n",
        "  labels=[]\n",
        "  for f in inflist:\n",
        "      if '.jpg' in f.filename:\n",
        "        ifile = imgzip.open(f)\n",
        "        img = Image.open(ifile)\n",
        "        #Cho vào mạng alexnet\n",
        "        img_t=transform(img)\n",
        "        batch_t = torch.unsqueeze(img_t,0)\n",
        "        out = deep_model(batch_t)\n",
        "        out=out.detach().numpy()\n",
        "        #  image_as_array = np.array(img, np.uint8)\n",
        "        #  image_as_array = cv2.resize(image_as_array,(227,227))\n",
        "        images.append(out)\n",
        "        if 'dog' in f.filename: labels.append(1)\n",
        "        elif 'cat' in f.filename: labels.append(0)\n",
        "  images=np.array(images)\n",
        "  labels=np.array(labels)\n",
        "  return images,labels"
      ],
      "execution_count": 158,
      "outputs": []
    },
    {
      "cell_type": "code",
      "metadata": {
        "id": "wyrcEzjXs0db"
      },
      "source": [
        "images1,labels1 = Read_data(alexnet1)\n",
        "images2,labels2 = Read_data(alexnet2)"
      ],
      "execution_count": 159,
      "outputs": []
    },
    {
      "cell_type": "markdown",
      "metadata": {
        "id": "9L2IDTWoyXOr"
      },
      "source": [
        "# Train model"
      ]
    },
    {
      "cell_type": "code",
      "metadata": {
        "id": "pSrPsSK7Czmf"
      },
      "source": [
        "def Split_data(images,labels):\n",
        "  X_train, X_test, y_train, y_test = train_test_split(images,labels, test_size=0.2, random_state=42)\n",
        "  X_train=X_train.reshape(X_train.shape[0],X_train.shape[1]*X_train.shape[2])\n",
        "  X_test=X_test.reshape(X_test.shape[0],X_test.shape[1]*X_test.shape[2])\n",
        "  return X_train,X_test,y_train,y_test\n",
        "def Train_Function(X,y):\n",
        "   model = make_pipeline(StandardScaler(), SVC(gamma='auto'))\n",
        "   model.fit(X,y)\n",
        "   return model\n",
        "def Accuracy(model,X,y_true):\n",
        "   y_pred=model.predict(X)\n",
        "   return y_pred,accuracy_score(y_pred,y_true)"
      ],
      "execution_count": 160,
      "outputs": []
    },
    {
      "cell_type": "code",
      "metadata": {
        "colab": {
          "base_uri": "https://localhost:8080/"
        },
        "id": "64S-p1Upqny9",
        "outputId": "cf908203-0dd2-4161-80d6-8b47759a2527"
      },
      "source": [
        "X_train_fc1,X_test_fc1,y_train_fc1,y_test_fc1 = Split_data(images1,labels1)\n",
        "X_train_fc2,X_test_fc2,y_train_fc2,y_test_fc2 = Split_data(images2,labels2)\n",
        "model1=Train_Function(X_train_fc1,y_train_fc1)\n",
        "model2=Train_Function(X_train_fc2,y_train_fc2)\n",
        "y_pred_train_fc1,Accuracy_Train_FC1 = Accuracy(model1,X_train_fc1,y_train_fc1)\n",
        "y_pred_test_fc1,Accuracy_Test_FC1 = Accuracy(model1,X_test_fc1,y_test_fc1)\n",
        "y_pred_train_fc2,Accuracy_Train_FC2 = Accuracy(model2,X_train_fc2,y_train_fc2)\n",
        "y_pred_test_fc2,Accuracy_Test_FC2 = Accuracy(model2,X_test_fc2,y_test_fc2)\n",
        "print('Accuracy_FC1:',Accuracy_Test_FC1)\n",
        "print('Accuracy_FC2:',Accuracy_Test_FC2)"
      ],
      "execution_count": 161,
      "outputs": [
        {
          "output_type": "stream",
          "text": [
            "Accuracy_FC1: 0.7073170731707317\n",
            "Accuracy_FC2: 0.6341463414634146\n"
          ],
          "name": "stdout"
        }
      ]
    },
    {
      "cell_type": "code",
      "metadata": {
        "colab": {
          "base_uri": "https://localhost:8080/"
        },
        "id": "47WhULENqyZ3",
        "outputId": "fbd24f2f-5ad5-4c63-ebda-a0061d2414f3"
      },
      "source": [
        "from sklearn.metrics import f1_score,precision_score,recall_score\n",
        "print('precision_fc1:',precision_score(y_pred_test_fc1,y_test_fc1,average='binary'))\n",
        "print('precision_fc2:',precision_score(y_pred_test_fc2,y_test_fc2,average='binary'))\n",
        "print('recall_fc1:',recall_score(y_pred_test_fc1,y_test_fc1,average='binary'))\n",
        "print('recall_fc2:',recall_score(y_pred_test_fc2,y_test_fc2,average='binary'))\n",
        "print('f1_score_fc1:',f1_score(y_pred_test_fc1,y_test_fc1,average='binary'))\n",
        "print('f1_score_fc2:',f1_score(y_pred_test_fc2,y_test_fc2,average='binary'))"
      ],
      "execution_count": 162,
      "outputs": [
        {
          "output_type": "stream",
          "text": [
            "precision_fc1: 0.8947368421052632\n",
            "precision_fc2: 0.8947368421052632\n",
            "recall_fc1: 0.6296296296296297\n",
            "recall_fc2: 0.5666666666666667\n",
            "f1_score_fc1: 0.7391304347826088\n",
            "f1_score_fc2: 0.6938775510204083\n"
          ],
          "name": "stdout"
        }
      ]
    },
    {
      "cell_type": "code",
      "metadata": {
        "colab": {
          "base_uri": "https://localhost:8080/",
          "height": 574
        },
        "id": "ueK5592AziUx",
        "outputId": "e255a939-3d24-43e5-976c-acfaf4345bd2"
      },
      "source": [
        "import matplotlib.pyplot as plt  \n",
        "from sklearn.metrics import plot_confusion_matrix\n",
        "plt.figure()\n",
        "plot_confusion_matrix(model1, X_test_fc1, y_test_fc1)\n",
        "plt.figure()\n",
        "plot_confusion_matrix(model2, X_test_fc2, y_test_fc2)\n",
        "plt.show()"
      ],
      "execution_count": 163,
      "outputs": [
        {
          "output_type": "display_data",
          "data": {
            "text/plain": [
              "<Figure size 432x288 with 0 Axes>"
            ]
          },
          "metadata": {
            "tags": []
          }
        },
        {
          "output_type": "display_data",
          "data": {
            "image/png": "[encoded data removed]",
            "text/plain": [
              "<Figure size 432x288 with 2 Axes>"
            ]
          },
          "metadata": {
            "tags": [],
            "needs_background": "light"
          }
        },
        {
          "output_type": "display_data",
          "data": {
            "text/plain": [
              "<Figure size 432x288 with 0 Axes>"
            ]
          },
          "metadata": {
            "tags": []
          }
        },
        {
          "output_type": "display_data",
          "data": {
            "image/png": "[encoded data removed]",
            "text/plain": [
              "<Figure size 432x288 with 2 Axes>"
            ]
          },
          "metadata": {
            "tags": [],
            "needs_background": "light"
          }
        }
      ]
    }
  ]
}